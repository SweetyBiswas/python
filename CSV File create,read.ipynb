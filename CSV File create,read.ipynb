{
 "cells": [
  {
   "cell_type": "code",
   "execution_count": 1,
   "id": "d9b94244",
   "metadata": {},
   "outputs": [],
   "source": [
    "import pandas as pd\n",
    "\n",
    "from io import StringIO"
   ]
  },
  {
   "cell_type": "markdown",
   "id": "c7fb5d59",
   "metadata": {},
   "source": [
    "# ====csv file create===="
   ]
  },
  {
   "cell_type": "markdown",
   "id": "43f35fd8",
   "metadata": {},
   "source": [
    "## .to_csv()=> csv file create kore"
   ]
  },
  {
   "cell_type": "markdown",
   "id": "13574d02",
   "metadata": {},
   "source": [
    "## ==========Store data into a csv file======\n",
    "\n",
    "## .to_csv()=dataframe ke csv te convert kore,csv file e store kore\n",
    "\n",
    "## ==> (dataframe name).to_csv(directiory location where want to store/jai file e store korte chai) #header =true ..means write the header #header =false ..means dont write the header"
   ]
  },
  {
   "cell_type": "code",
   "execution_count": 69,
   "id": "bca9f543",
   "metadata": {},
   "outputs": [
    {
     "name": "stdout",
     "output_type": "stream",
     "text": [
      "      col1  col2  col3  col4\n",
      "row1    12    22    32    50\n",
      "row2    12    29    32    60\n",
      "row3    10    50    60    90 \n",
      " \n",
      "\n",
      "      col1  col2  col3  col4\n",
      "row1    12    22    32    50\n",
      "row2    12    29    32    60\n",
      "row3    10    50    60    90\n"
     ]
    }
   ],
   "source": [
    "a=pd.DataFrame([[12,22,32,50],[12,29,32,60],[10,50,60,90]],index=[\"row1\",\"row2\",\"row3\"],\n",
    "               columns=[\"col1\",\"col2\",\"col3\",\"col4\"])\n",
    "\n",
    "print(a,\"\\n\",\"\\n\")\n",
    "\n",
    "a.to_csv(\"demo1.csv\")\n",
    "\n",
    "print(a)"
   ]
  },
  {
   "cell_type": "code",
   "execution_count": 70,
   "id": "9864d7de",
   "metadata": {},
   "outputs": [
    {
     "name": "stdout",
     "output_type": "stream",
     "text": [
      "      col1  col2  col3  col4  col5\n",
      "row1     1     2     3     4     5\n",
      "row2     6     7     8     9    10\n",
      "row3    11    12    13    14    15\n"
     ]
    }
   ],
   "source": [
    "#create a dataframe and store to csv file\n",
    "\n",
    "import pandas as pd\n",
    "import numpy as np\n",
    "d=pd.DataFrame(np.arange(1,16).reshape(3,5),index=[\"row1\",\"row2\",\"row3\"],\n",
    "               columns=[\"col1\",\"col2\",\"col3\",\"col4\",\"col5\"])\n",
    "\n",
    "print(d)\n",
    "\n",
    "d.to_csv(\"sweety.csv\")"
   ]
  },
  {
   "cell_type": "code",
   "execution_count": 72,
   "id": "10e82099",
   "metadata": {},
   "outputs": [
    {
     "name": "stdout",
     "output_type": "stream",
     "text": [
      "    col1  col2  col3  col4  col5\n",
      "r1   NaN   NaN   NaN   NaN   NaN\n",
      "r2   NaN   NaN   NaN   NaN   NaN\n",
      "r3   NaN   NaN   NaN   NaN   NaN\n"
     ]
    }
   ],
   "source": [
    "x=d.reindex([\"r1\",\"r2\",\"r3\"])\n",
    "print(x)"
   ]
  },
  {
   "cell_type": "markdown",
   "id": "cf4baf29",
   "metadata": {},
   "source": [
    "## Read CSV Files\n",
    " \n",
    "## >=A simple way to store big data sets is to use CSV files (comma separated files).\n",
    "\n",
    "## >=CSV files contains plain text and is a well know format that can be read by everyone including Pandas."
   ]
  },
  {
   "cell_type": "markdown",
   "id": "84b59f96",
   "metadata": {},
   "source": [
    "# >>>>>> Load Data <<<<<<<<"
   ]
  },
  {
   "cell_type": "markdown",
   "id": "d5c64a39",
   "metadata": {},
   "source": [
    "### ===Load data from csv file===="
   ]
  },
  {
   "cell_type": "markdown",
   "id": "58df7511",
   "metadata": {},
   "source": [
    "## df=pd.read_csv(\"file name.csv\")\n",
    "\n",
    "\n",
    "### working Directory = the directory in my machine where the python software is loaded\n",
    "\n",
    "### if the file is in that path it will look in that path\n",
    "\n",
    "### if it in other path we have to mention the full path..c:\\myfolder....\n",
    "\n",
    "#### >==it will read all data there in the csv file and put them into dataframe\n",
    "\n",
    "#### >==1st row in csv file will become the 0th row in the dataframe index=0\n",
    "\n",
    "#### >==but some times in the 1st row of the csv file we have the column names/headers\n",
    "\n",
    "#### >==so if file contains header we have to mention (header=0) means 0th index/row is actually my header information\n",
    "\n",
    "#### >==if no header is present in my file i can skip (header=0) part...dnt need to mention"
   ]
  },
  {
   "cell_type": "code",
   "execution_count": 73,
   "id": "d8d95d75",
   "metadata": {},
   "outputs": [
    {
     "name": "stdout",
     "output_type": "stream",
     "text": [
      "   60  50  48  17\n",
      "0  67  52  49  67\n",
      "1  42  43  50  54\n",
      "2  67  67  55  67\n",
      "3  56  67  56  68\n",
      "4  62  59  61  65\n",
      "5  64  67  61  65\n",
      "6  59  64  60  56\n",
      "7  72  63  59  60\n",
      "8  71  65  64  65\n"
     ]
    }
   ],
   "source": [
    "a=pd.read_csv(\"onewaydata.csv\")\n",
    "print(a)"
   ]
  },
  {
   "cell_type": "code",
   "execution_count": 74,
   "id": "564ea3d0",
   "metadata": {},
   "outputs": [
    {
     "name": "stdout",
     "output_type": "stream",
     "text": [
      "   60  50  48  17\n",
      "0  67  52  49  67\n",
      "1  42  43  50  54\n",
      "2  67  67  55  67\n",
      "3  56  67  56  68\n",
      "4  62  59  61  65\n",
      "5  64  67  61  65\n",
      "6  59  64  60  56\n",
      "7  72  63  59  60\n",
      "8  71  65  64  65\n"
     ]
    }
   ],
   "source": [
    "a=pd.read_csv(\"onewaydata.csv\",header=0)\n",
    "#1st row in csv file will become column names\n",
    "print(a)"
   ]
  },
  {
   "cell_type": "code",
   "execution_count": 75,
   "id": "5977fc57",
   "metadata": {},
   "outputs": [
    {
     "name": "stdout",
     "output_type": "stream",
     "text": [
      "    0   1   2   3\n",
      "0  60  50  48  17\n",
      "1  67  52  49  67\n",
      "2  42  43  50  54\n",
      "3  67  67  55  67\n",
      "4  56  67  56  68\n",
      "5  62  59  61  65\n",
      "6  64  67  61  65\n",
      "7  59  64  60  56\n",
      "8  72  63  59  60\n",
      "9  71  65  64  65\n"
     ]
    }
   ],
   "source": [
    "b=pd.read_csv(\"onewaydata.csv\",header=None)\n",
    "print(b)"
   ]
  },
  {
   "cell_type": "code",
   "execution_count": null,
   "id": "2120895b",
   "metadata": {},
   "outputs": [],
   "source": [
    "# a excel file can have multiple sheet so we need to mention sheet name\n",
    "a=pd.read_csv(\"onewaydata.csv\",sheet_name=\"sheet1\")\n",
    "print(a)"
   ]
  },
  {
   "cell_type": "markdown",
   "id": "e853f379",
   "metadata": {},
   "source": [
    "# ======= Read a csv File======="
   ]
  },
  {
   "cell_type": "markdown",
   "id": "46025fbb",
   "metadata": {},
   "source": [
    "### .read_csv() => csv file ke read kore"
   ]
  },
  {
   "cell_type": "code",
   "execution_count": 76,
   "id": "bc93dacb",
   "metadata": {},
   "outputs": [
    {
     "name": "stdout",
     "output_type": "stream",
     "text": [
      "  \\tcol1\\tcol2\\tcol3\\tcol4\\tcol5\\tcol6\\tcol7\\tcol8\\tcol9\\tcol10\n",
      "0           row1\\t1\\t\\t21\\t31\\t41\\t51\\t61\\t71\\t81\\tA           \n",
      "1         row2\\t200\\t\\t22\\t32\\t42\\t52\\t62\\t72\\t82\\tB           \n",
      "2           row3\\t3\\t13\\t23\\t33\\t43\\t53\\t63\\t73\\t\\tC           \n",
      "3          row4\\t0\\t14\\t24\\t0\\t44\\t54\\t64\\t74\\t84\\tD           \n",
      "4         row5\\t5\\t15\\t25\\t35\\t45\\t55\\t65\\t75\\t85\\tE           \n",
      "5         row6\\t6\\t16\\t26\\t36\\t46\\t56\\t66\\t76\\t86\\tF           \n",
      "6         row7\\t7\\t17\\t27\\t37\\t47\\t57\\t67\\t77\\t87\\tG           \n",
      "7         row8\\t8\\t18\\t28\\t38\\t48\\t58\\t68\\t78\\t88\\tH           \n",
      "8             row9\\t9\\t19\\t\\t39\\t49\\t\\t69\\t79\\t89\\tI           \n",
      "9       row10\\t10\\t20\\t30\\t40\\t50\\t60\\t70\\t80\\t90\\tJ           \n"
     ]
    }
   ],
   "source": [
    "import pandas as pd\n",
    "b=pd.read_csv(\"demo.csv\")\n",
    "print(b)"
   ]
  },
  {
   "cell_type": "markdown",
   "id": "5dd6f3f9",
   "metadata": {},
   "source": [
    "### csv file e comma dia value separate kora tykle tyle dataframe e alada alada kore value ta nybe jodi onno ki6u dia separate kora tyke file e tyle syta read korar somay define kore dite hobe , use korle value gulo separate hoy by default but akhane \\n dia new line and \\t= tab use kore space dia6e akhane default separator nai so amke separator define kore dite hobe sep='\\t'"
   ]
  },
  {
   "cell_type": "code",
   "execution_count": 77,
   "id": "82e6e6e8",
   "metadata": {},
   "outputs": [
    {
     "name": "stdout",
     "output_type": "stream",
     "text": [
      "  Unnamed: 0  col1  col2  col3  col4  col5  col6  col7  col8  col9 col10\n",
      "0       row1     1   NaN  21.0    31    41  51.0    61    71  81.0     A\n",
      "1       row2   200   NaN  22.0    32    42  52.0    62    72  82.0     B\n",
      "2       row3     3  13.0  23.0    33    43  53.0    63    73   NaN     C\n",
      "3       row4     0  14.0  24.0     0    44  54.0    64    74  84.0     D\n",
      "4       row5     5  15.0  25.0    35    45  55.0    65    75  85.0     E\n",
      "5       row6     6  16.0  26.0    36    46  56.0    66    76  86.0     F\n",
      "6       row7     7  17.0  27.0    37    47  57.0    67    77  87.0     G\n",
      "7       row8     8  18.0  28.0    38    48  58.0    68    78  88.0     H\n",
      "8       row9     9  19.0   NaN    39    49   NaN    69    79  89.0     I\n",
      "9      row10    10  20.0  30.0    40    50  60.0    70    80  90.0     J\n"
     ]
    }
   ],
   "source": [
    "b=pd.read_csv(\"demo.csv\",sep=\"\\t\")\n",
    "print(b)"
   ]
  },
  {
   "cell_type": "code",
   "execution_count": 78,
   "id": "a5bdce0d",
   "metadata": {},
   "outputs": [
    {
     "name": "stdout",
     "output_type": "stream",
     "text": [
      "  Unnamed: 0  col1  col2  col3  col4  col5  col6  col7  col8  col9 col10\n",
      "0       row1     1   NaN  21.0    31    41  51.0    61    71  81.0     A\n",
      "1       row2   200   NaN  22.0    32    42  52.0    62    72  82.0     B\n",
      "2       row3     3  13.0  23.0    33    43  53.0    63    73   NaN     C\n",
      "3       row4     0  14.0  24.0     0    44  54.0    64    74  84.0     D\n",
      "4       row5     5  15.0  25.0    35    45  55.0    65    75  85.0     E\n",
      "5       row6     6  16.0  26.0    36    46  56.0    66    76  86.0     F\n",
      "6       row7     7  17.0  27.0    37    47  57.0    67    77  87.0     G\n",
      "7       row8     8  18.0  28.0    38    48  58.0    68    78  88.0     H\n",
      "8       row9     9  19.0   NaN    39    49   NaN    69    79  89.0     I\n",
      "9      row10    10  20.0  30.0    40    50  60.0    70    80  90.0     J\n"
     ]
    }
   ],
   "source": [
    "b=pd.read_csv(\"demo.csv\",sep=\"\\t\",header=0)\n",
    "print(b)"
   ]
  },
  {
   "cell_type": "markdown",
   "id": "0cfd0360",
   "metadata": {},
   "source": [
    "# ==========head() ================\n",
    "\n",
    "### => by default csv file tyke 1st 5 ta row show kore/tule ane\n",
    "\n",
    "### => kono value pass korale sykota dybe"
   ]
  },
  {
   "cell_type": "code",
   "execution_count": 79,
   "id": "a82dc988",
   "metadata": {},
   "outputs": [
    {
     "name": "stdout",
     "output_type": "stream",
     "text": [
      "  Unnamed: 0  col1  col2  col3  col4  col5  col6  col7  col8  col9 col10\n",
      "0       row1     1   NaN  21.0    31    41  51.0    61    71  81.0     A\n",
      "1       row2   200   NaN  22.0    32    42  52.0    62    72  82.0     B\n",
      "2       row3     3  13.0  23.0    33    43  53.0    63    73   NaN     C\n",
      "3       row4     0  14.0  24.0     0    44  54.0    64    74  84.0     D\n",
      "4       row5     5  15.0  25.0    35    45  55.0    65    75  85.0     E\n"
     ]
    }
   ],
   "source": [
    "#=====head bydefalut 5 ta value day\n",
    "\n",
    "b=pd.read_csv(\"demo.csv\",sep=\"\\t\")\n",
    "print(b.head())"
   ]
  },
  {
   "cell_type": "code",
   "execution_count": 80,
   "id": "d597305b",
   "metadata": {},
   "outputs": [
    {
     "name": "stdout",
     "output_type": "stream",
     "text": [
      "  Unnamed: 0  col1  col2  col3  col4  col5  col6  col7  col8  col9 col10\n",
      "0       row1     1   NaN  21.0    31    41  51.0    61    71  81.0     A\n",
      "1       row2   200   NaN  22.0    32    42  52.0    62    72  82.0     B\n",
      "2       row3     3  13.0  23.0    33    43  53.0    63    73   NaN     C\n",
      "3       row4     0  14.0  24.0     0    44  54.0    64    74  84.0     D\n",
      "4       row5     5  15.0  25.0    35    45  55.0    65    75  85.0     E\n",
      "5       row6     6  16.0  26.0    36    46  56.0    66    76  86.0     F\n",
      "6       row7     7  17.0  27.0    37    47  57.0    67    77  87.0     G\n",
      "7       row8     8  18.0  28.0    38    48  58.0    68    78  88.0     H\n"
     ]
    }
   ],
   "source": [
    "b=pd.read_csv(\"demo.csv\",sep=\"\\t\")\n",
    "print(b.head(8))"
   ]
  },
  {
   "cell_type": "markdown",
   "id": "3837a5fb",
   "metadata": {},
   "source": [
    "# =================info()================\n",
    "\n",
    "### => csv file e kotogulo row,column a6e\n",
    "### =>kon column e ki type data a6e  sob return kore"
   ]
  },
  {
   "cell_type": "code",
   "execution_count": 81,
   "id": "4d681f95",
   "metadata": {},
   "outputs": [
    {
     "name": "stdout",
     "output_type": "stream",
     "text": [
      "<class 'pandas.core.frame.DataFrame'>\n",
      "RangeIndex: 10 entries, 0 to 9\n",
      "Data columns (total 11 columns):\n",
      " #   Column      Non-Null Count  Dtype  \n",
      "---  ------      --------------  -----  \n",
      " 0   Unnamed: 0  10 non-null     object \n",
      " 1   col1        10 non-null     int64  \n",
      " 2   col2        8 non-null      float64\n",
      " 3   col3        9 non-null      float64\n",
      " 4   col4        10 non-null     int64  \n",
      " 5   col5        10 non-null     int64  \n",
      " 6   col6        9 non-null      float64\n",
      " 7   col7        10 non-null     int64  \n",
      " 8   col8        10 non-null     int64  \n",
      " 9   col9        9 non-null      float64\n",
      " 10  col10       10 non-null     object \n",
      "dtypes: float64(4), int64(5), object(2)\n",
      "memory usage: 1008.0+ bytes\n",
      "None\n"
     ]
    }
   ],
   "source": [
    "#===================info()===\n",
    "\n",
    "b=pd.read_csv(\"demo.csv\",sep=\"\\t\")\n",
    "print(b.info())"
   ]
  },
  {
   "cell_type": "markdown",
   "id": "a4985b42",
   "metadata": {},
   "source": [
    "# =================describe()=============\n",
    "\n",
    "### ==> count kon column e kota value a6e =>mean\n",
    "### =>standard deviation \n",
    "### =>minimum value \n",
    "### =>kono column e object type r data tykle syta return kore na...syta count kore na \n",
    "### =>parcentile show kore 25,50,75 parcentile \n",
    "### =>maximum value return kore"
   ]
  },
  {
   "cell_type": "code",
   "execution_count": 82,
   "id": "675a1ea4",
   "metadata": {},
   "outputs": [
    {
     "name": "stdout",
     "output_type": "stream",
     "text": [
      "             col1      col2       col3      col4      col5       col6  \\\n",
      "count   10.000000   8.00000   9.000000  10.00000  10.00000   9.000000   \n",
      "mean    24.900000  16.50000  25.111111  32.10000  45.50000  55.111111   \n",
      "std     61.612499   2.44949   2.934469  11.66619   3.02765   2.934469   \n",
      "min      0.000000  13.00000  21.000000   0.00000  41.00000  51.000000   \n",
      "25%      3.500000  14.75000  23.000000  32.25000  43.25000  53.000000   \n",
      "50%      6.500000  16.50000  25.000000  35.50000  45.50000  55.000000   \n",
      "75%      8.750000  18.25000  27.000000  37.75000  47.75000  57.000000   \n",
      "max    200.000000  20.00000  30.000000  40.00000  50.00000  60.000000   \n",
      "\n",
      "           col7      col8       col9  \n",
      "count  10.00000  10.00000   9.000000  \n",
      "mean   65.50000  75.50000  85.777778  \n",
      "std     3.02765   3.02765   3.073181  \n",
      "min    61.00000  71.00000  81.000000  \n",
      "25%    63.25000  73.25000  84.000000  \n",
      "50%    65.50000  75.50000  86.000000  \n",
      "75%    67.75000  77.75000  88.000000  \n",
      "max    70.00000  80.00000  90.000000  \n"
     ]
    }
   ],
   "source": [
    "#============describe()\n",
    "\n",
    "b=pd.read_csv(\"demo.csv\",sep=\"\\t\")\n",
    "print(b.describe())"
   ]
  },
  {
   "cell_type": "code",
   "execution_count": 83,
   "id": "3bd97bdd",
   "metadata": {},
   "outputs": [
    {
     "name": "stdout",
     "output_type": "stream",
     "text": [
      "Unnamed: 0    row1\n",
      "col1             0\n",
      "col2          13.0\n",
      "col3          21.0\n",
      "col4             0\n",
      "col5            41\n",
      "col6          51.0\n",
      "col7            61\n",
      "col8            71\n",
      "col9          81.0\n",
      "col10            A\n",
      "dtype: object\n"
     ]
    }
   ],
   "source": [
    "b=pd.read_csv(\"demo.csv\",sep=\"\\t\")\n",
    "print(b.min())"
   ]
  },
  {
   "cell_type": "markdown",
   "id": "7e268454",
   "metadata": {},
   "source": [
    "# ==============value_counts()==============\n",
    "\n",
    "### >>count kon value kotobar a6e"
   ]
  },
  {
   "cell_type": "code",
   "execution_count": 84,
   "id": "036c39be",
   "metadata": {},
   "outputs": [
    {
     "name": "stdout",
     "output_type": "stream",
     "text": [
      "0      1\n",
      "1      1\n",
      "3      1\n",
      "10     1\n",
      "5      1\n",
      "6      1\n",
      "7      1\n",
      "200    1\n",
      "9      1\n",
      "8      1\n",
      "Name: col1, dtype: int64\n"
     ]
    }
   ],
   "source": [
    "b=pd.read_csv(\"demo.csv\",sep=\"\\t\")\n",
    "print(b[\"col1\"].value_counts())"
   ]
  },
  {
   "cell_type": "markdown",
   "id": "6d2f5095",
   "metadata": {},
   "source": [
    "# ========Accessing the elements======="
   ]
  },
  {
   "cell_type": "code",
   "execution_count": 85,
   "id": "0773124a",
   "metadata": {},
   "outputs": [
    {
     "name": "stdout",
     "output_type": "stream",
     "text": [
      "  Unnamed: 0  col1  col2  col3  col4  col5  col6  col7  col8  col9 col10\n",
      "0       row1     1   NaN  21.0    31    41  51.0    61    71  81.0     A\n",
      "1       row2   200   NaN  22.0    32    42  52.0    62    72  82.0     B\n",
      "2       row3     3  13.0  23.0    33    43  53.0    63    73   NaN     C\n",
      "3       row4     0  14.0  24.0     0    44  54.0    64    74  84.0     D\n",
      "4       row5     5  15.0  25.0    35    45  55.0    65    75  85.0     E\n",
      "5       row6     6  16.0  26.0    36    46  56.0    66    76  86.0     F\n",
      "6       row7     7  17.0  27.0    37    47  57.0    67    77  87.0     G\n",
      "7       row8     8  18.0  28.0    38    48  58.0    68    78  88.0     H\n",
      "8       row9     9  19.0   NaN    39    49   NaN    69    79  89.0     I\n",
      "9      row10    10  20.0  30.0    40    50  60.0    70    80  90.0     J\n"
     ]
    }
   ],
   "source": [
    "b=pd.read_csv(\"demo.csv\",sep=\"\\t\")\n",
    "print(b)"
   ]
  },
  {
   "cell_type": "code",
   "execution_count": 86,
   "id": "2ab7d545",
   "metadata": {},
   "outputs": [
    {
     "name": "stdout",
     "output_type": "stream",
     "text": [
      "0      1\n",
      "1    200\n",
      "2      3\n",
      "3      0\n",
      "4      5\n",
      "5      6\n",
      "6      7\n",
      "7      8\n",
      "8      9\n",
      "9     10\n",
      "Name: col1, dtype: int64\n"
     ]
    }
   ],
   "source": [
    "print(b[\"col1\"])"
   ]
  },
  {
   "cell_type": "code",
   "execution_count": 87,
   "id": "17bca8b1",
   "metadata": {},
   "outputs": [
    {
     "name": "stdout",
     "output_type": "stream",
     "text": [
      "Unnamed: 0    row1\n",
      "col1             1\n",
      "col2           NaN\n",
      "col3          21.0\n",
      "col4            31\n",
      "col5            41\n",
      "col6          51.0\n",
      "col7            61\n",
      "col8            71\n",
      "col9          81.0\n",
      "col10            A\n",
      "Name: 0, dtype: object\n"
     ]
    }
   ],
   "source": [
    "print(b.loc[0])"
   ]
  },
  {
   "cell_type": "code",
   "execution_count": 88,
   "id": "d1ed722e",
   "metadata": {},
   "outputs": [
    {
     "name": "stdout",
     "output_type": "stream",
     "text": [
      "<class 'pandas.core.series.Series'>\n"
     ]
    }
   ],
   "source": [
    "print(type(b.loc[0]))"
   ]
  },
  {
   "cell_type": "code",
   "execution_count": 89,
   "id": "cc7a6763",
   "metadata": {},
   "outputs": [
    {
     "name": "stdout",
     "output_type": "stream",
     "text": [
      "<class 'pandas.core.frame.DataFrame'>\n"
     ]
    }
   ],
   "source": [
    "print(type(b))"
   ]
  },
  {
   "cell_type": "markdown",
   "id": "6e8e07b6",
   "metadata": {},
   "source": [
    "### Take the elements from the Column2"
   ]
  },
  {
   "cell_type": "code",
   "execution_count": 90,
   "id": "df0e7206",
   "metadata": {},
   "outputs": [
    {
     "name": "stdout",
     "output_type": "stream",
     "text": [
      "   col1  col2  col3  col4  col5  col6  col7  col8  col9 col10\n",
      "0     1   NaN  21.0    31    41  51.0    61    71  81.0     A\n",
      "1   200   NaN  22.0    32    42  52.0    62    72  82.0     B\n",
      "2     3  13.0  23.0    33    43  53.0    63    73   NaN     C\n",
      "3     0  14.0  24.0     0    44  54.0    64    74  84.0     D\n",
      "4     5  15.0  25.0    35    45  55.0    65    75  85.0     E\n",
      "5     6  16.0  26.0    36    46  56.0    66    76  86.0     F\n",
      "6     7  17.0  27.0    37    47  57.0    67    77  87.0     G\n",
      "7     8  18.0  28.0    38    48  58.0    68    78  88.0     H\n",
      "8     9  19.0   NaN    39    49   NaN    69    79  89.0     I\n",
      "9    10  20.0  30.0    40    50  60.0    70    80  90.0     J\n"
     ]
    }
   ],
   "source": [
    "print(b.iloc[:,1:])"
   ]
  },
  {
   "cell_type": "markdown",
   "id": "9509bf8b",
   "metadata": {},
   "source": [
    "# convert Dataframes into array"
   ]
  },
  {
   "cell_type": "code",
   "execution_count": 91,
   "id": "7a1757f8",
   "metadata": {},
   "outputs": [
    {
     "data": {
      "text/plain": [
       "array([[1, nan, 21.0, 31, 41, 51.0, 61, 71, 81.0, 'A'],\n",
       "       [200, nan, 22.0, 32, 42, 52.0, 62, 72, 82.0, 'B'],\n",
       "       [3, 13.0, 23.0, 33, 43, 53.0, 63, 73, nan, 'C'],\n",
       "       [0, 14.0, 24.0, 0, 44, 54.0, 64, 74, 84.0, 'D'],\n",
       "       [5, 15.0, 25.0, 35, 45, 55.0, 65, 75, 85.0, 'E'],\n",
       "       [6, 16.0, 26.0, 36, 46, 56.0, 66, 76, 86.0, 'F'],\n",
       "       [7, 17.0, 27.0, 37, 47, 57.0, 67, 77, 87.0, 'G'],\n",
       "       [8, 18.0, 28.0, 38, 48, 58.0, 68, 78, 88.0, 'H'],\n",
       "       [9, 19.0, nan, 39, 49, nan, 69, 79, 89.0, 'I'],\n",
       "       [10, 20.0, 30.0, 40, 50, 60.0, 70, 80, 90.0, 'J']], dtype=object)"
      ]
     },
     "execution_count": 91,
     "metadata": {},
     "output_type": "execute_result"
    }
   ],
   "source": [
    "b.iloc[:,1:].values"
   ]
  },
  {
   "cell_type": "code",
   "execution_count": 98,
   "id": "c6524646",
   "metadata": {},
   "outputs": [
    {
     "data": {
      "text/plain": [
       "array(['row1', 1, nan, 21.0, 31, 41, 51.0, 61, 71, 81.0, 'A'],\n",
       "      dtype=object)"
      ]
     },
     "execution_count": 98,
     "metadata": {},
     "output_type": "execute_result"
    }
   ],
   "source": [
    "b.iloc[0].values"
   ]
  },
  {
   "cell_type": "code",
   "execution_count": 94,
   "id": "8bb4ddce",
   "metadata": {},
   "outputs": [
    {
     "data": {
      "text/html": [
       "<div>\n",
       "<style scoped>\n",
       "    .dataframe tbody tr th:only-of-type {\n",
       "        vertical-align: middle;\n",
       "    }\n",
       "\n",
       "    .dataframe tbody tr th {\n",
       "        vertical-align: top;\n",
       "    }\n",
       "\n",
       "    .dataframe thead th {\n",
       "        text-align: right;\n",
       "    }\n",
       "</style>\n",
       "<table border=\"1\" class=\"dataframe\">\n",
       "  <thead>\n",
       "    <tr style=\"text-align: right;\">\n",
       "      <th></th>\n",
       "      <th>col1</th>\n",
       "      <th>col2</th>\n",
       "      <th>col3</th>\n",
       "      <th>col4</th>\n",
       "      <th>col5</th>\n",
       "      <th>col6</th>\n",
       "      <th>col7</th>\n",
       "      <th>col8</th>\n",
       "      <th>col9</th>\n",
       "    </tr>\n",
       "  </thead>\n",
       "  <tbody>\n",
       "    <tr>\n",
       "      <th>col1</th>\n",
       "      <td>1.000000</td>\n",
       "      <td>0.920390</td>\n",
       "      <td>-0.355190</td>\n",
       "      <td>0.037424</td>\n",
       "      <td>-0.360064</td>\n",
       "      <td>-0.355190</td>\n",
       "      <td>-0.360064</td>\n",
       "      <td>-0.360064</td>\n",
       "      <td>-0.417378</td>\n",
       "    </tr>\n",
       "    <tr>\n",
       "      <th>col2</th>\n",
       "      <td>0.920390</td>\n",
       "      <td>1.000000</td>\n",
       "      <td>1.000000</td>\n",
       "      <td>0.560244</td>\n",
       "      <td>1.000000</td>\n",
       "      <td>1.000000</td>\n",
       "      <td>1.000000</td>\n",
       "      <td>1.000000</td>\n",
       "      <td>1.000000</td>\n",
       "    </tr>\n",
       "    <tr>\n",
       "      <th>col3</th>\n",
       "      <td>-0.355190</td>\n",
       "      <td>1.000000</td>\n",
       "      <td>1.000000</td>\n",
       "      <td>0.375397</td>\n",
       "      <td>1.000000</td>\n",
       "      <td>1.000000</td>\n",
       "      <td>1.000000</td>\n",
       "      <td>1.000000</td>\n",
       "      <td>1.000000</td>\n",
       "    </tr>\n",
       "    <tr>\n",
       "      <th>col4</th>\n",
       "      <td>0.037424</td>\n",
       "      <td>0.560244</td>\n",
       "      <td>0.375397</td>\n",
       "      <td>1.000000</td>\n",
       "      <td>0.419956</td>\n",
       "      <td>0.375397</td>\n",
       "      <td>0.419956</td>\n",
       "      <td>0.419956</td>\n",
       "      <td>0.447214</td>\n",
       "    </tr>\n",
       "    <tr>\n",
       "      <th>col5</th>\n",
       "      <td>-0.360064</td>\n",
       "      <td>1.000000</td>\n",
       "      <td>1.000000</td>\n",
       "      <td>0.419956</td>\n",
       "      <td>1.000000</td>\n",
       "      <td>1.000000</td>\n",
       "      <td>1.000000</td>\n",
       "      <td>1.000000</td>\n",
       "      <td>1.000000</td>\n",
       "    </tr>\n",
       "    <tr>\n",
       "      <th>col6</th>\n",
       "      <td>-0.355190</td>\n",
       "      <td>1.000000</td>\n",
       "      <td>1.000000</td>\n",
       "      <td>0.375397</td>\n",
       "      <td>1.000000</td>\n",
       "      <td>1.000000</td>\n",
       "      <td>1.000000</td>\n",
       "      <td>1.000000</td>\n",
       "      <td>1.000000</td>\n",
       "    </tr>\n",
       "    <tr>\n",
       "      <th>col7</th>\n",
       "      <td>-0.360064</td>\n",
       "      <td>1.000000</td>\n",
       "      <td>1.000000</td>\n",
       "      <td>0.419956</td>\n",
       "      <td>1.000000</td>\n",
       "      <td>1.000000</td>\n",
       "      <td>1.000000</td>\n",
       "      <td>1.000000</td>\n",
       "      <td>1.000000</td>\n",
       "    </tr>\n",
       "    <tr>\n",
       "      <th>col8</th>\n",
       "      <td>-0.360064</td>\n",
       "      <td>1.000000</td>\n",
       "      <td>1.000000</td>\n",
       "      <td>0.419956</td>\n",
       "      <td>1.000000</td>\n",
       "      <td>1.000000</td>\n",
       "      <td>1.000000</td>\n",
       "      <td>1.000000</td>\n",
       "      <td>1.000000</td>\n",
       "    </tr>\n",
       "    <tr>\n",
       "      <th>col9</th>\n",
       "      <td>-0.417378</td>\n",
       "      <td>1.000000</td>\n",
       "      <td>1.000000</td>\n",
       "      <td>0.447214</td>\n",
       "      <td>1.000000</td>\n",
       "      <td>1.000000</td>\n",
       "      <td>1.000000</td>\n",
       "      <td>1.000000</td>\n",
       "      <td>1.000000</td>\n",
       "    </tr>\n",
       "  </tbody>\n",
       "</table>\n",
       "</div>"
      ],
      "text/plain": [
       "          col1      col2      col3      col4      col5      col6      col7  \\\n",
       "col1  1.000000  0.920390 -0.355190  0.037424 -0.360064 -0.355190 -0.360064   \n",
       "col2  0.920390  1.000000  1.000000  0.560244  1.000000  1.000000  1.000000   \n",
       "col3 -0.355190  1.000000  1.000000  0.375397  1.000000  1.000000  1.000000   \n",
       "col4  0.037424  0.560244  0.375397  1.000000  0.419956  0.375397  0.419956   \n",
       "col5 -0.360064  1.000000  1.000000  0.419956  1.000000  1.000000  1.000000   \n",
       "col6 -0.355190  1.000000  1.000000  0.375397  1.000000  1.000000  1.000000   \n",
       "col7 -0.360064  1.000000  1.000000  0.419956  1.000000  1.000000  1.000000   \n",
       "col8 -0.360064  1.000000  1.000000  0.419956  1.000000  1.000000  1.000000   \n",
       "col9 -0.417378  1.000000  1.000000  0.447214  1.000000  1.000000  1.000000   \n",
       "\n",
       "          col8      col9  \n",
       "col1 -0.360064 -0.417378  \n",
       "col2  1.000000  1.000000  \n",
       "col3  1.000000  1.000000  \n",
       "col4  0.419956  0.447214  \n",
       "col5  1.000000  1.000000  \n",
       "col6  1.000000  1.000000  \n",
       "col7  1.000000  1.000000  \n",
       "col8  1.000000  1.000000  \n",
       "col9  1.000000  1.000000  "
      ]
     },
     "execution_count": 94,
     "metadata": {},
     "output_type": "execute_result"
    }
   ],
   "source": [
    "#corelation\n",
    "\n",
    "b.corr()"
   ]
  },
  {
   "cell_type": "markdown",
   "id": "2458c845",
   "metadata": {},
   "source": [
    "# =======================header====================="
   ]
  },
  {
   "cell_type": "markdown",
   "id": "322151f9",
   "metadata": {},
   "source": [
    "### column name change"
   ]
  },
  {
   "cell_type": "code",
   "execution_count": 99,
   "id": "9e070f5f",
   "metadata": {},
   "outputs": [
    {
     "name": "stdout",
     "output_type": "stream",
     "text": [
      "  Unnamed: 0  col1  col2  col3  col4  col5  col6  col7  col8  col9 col10\n",
      "0       row1     1   NaN  21.0    31    41  51.0    61    71  81.0     A\n",
      "1       row2   200   NaN  22.0    32    42  52.0    62    72  82.0     B\n",
      "2       row3     3  13.0  23.0    33    43  53.0    63    73   NaN     C\n",
      "3       row4     0  14.0  24.0     0    44  54.0    64    74  84.0     D\n",
      "4       row5     5  15.0  25.0    35    45  55.0    65    75  85.0     E\n",
      "5       row6     6  16.0  26.0    36    46  56.0    66    76  86.0     F\n",
      "6       row7     7  17.0  27.0    37    47  57.0    67    77  87.0     G\n",
      "7       row8     8  18.0  28.0    38    48  58.0    68    78  88.0     H\n",
      "8       row9     9  19.0   NaN    39    49   NaN    69    79  89.0     I\n",
      "9      row10    10  20.0  30.0    40    50  60.0    70    80  90.0     J\n"
     ]
    }
   ],
   "source": [
    "import pandas as pd\n",
    "\n",
    "b=pd.read_csv(\"demo.csv\",sep=\"\\t\")\n",
    "print(b)"
   ]
  },
  {
   "cell_type": "code",
   "execution_count": 100,
   "id": "76751801",
   "metadata": {},
   "outputs": [
    {
     "name": "stdout",
     "output_type": "stream",
     "text": [
      "    row1    1  Unnamed: 2    21  31  41    51  61  71    81  A\n",
      "0   row2  200         NaN  22.0  32  42  52.0  62  72  82.0  B\n",
      "1   row3    3        13.0  23.0  33  43  53.0  63  73   NaN  C\n",
      "2   row4    0        14.0  24.0   0  44  54.0  64  74  84.0  D\n",
      "3   row5    5        15.0  25.0  35  45  55.0  65  75  85.0  E\n",
      "4   row6    6        16.0  26.0  36  46  56.0  66  76  86.0  F\n",
      "5   row7    7        17.0  27.0  37  47  57.0  67  77  87.0  G\n",
      "6   row8    8        18.0  28.0  38  48  58.0  68  78  88.0  H\n",
      "7   row9    9        19.0   NaN  39  49   NaN  69  79  89.0  I\n",
      "8  row10   10        20.0  30.0  40  50  60.0  70  80  90.0  J\n"
     ]
    }
   ],
   "source": [
    "#row 1 become header,\n",
    "#,row1's value become column name now if we want to access column element we have to access with row1 element name\n",
    "\n",
    "b=pd.read_csv(\"demo.csv\",sep=\"\\t\",header=1)\n",
    "print(b)"
   ]
  },
  {
   "cell_type": "markdown",
   "id": "67f3fb36",
   "metadata": {},
   "source": [
    "# ============== tail() method ========="
   ]
  },
  {
   "cell_type": "code",
   "execution_count": null,
   "id": "ddcb565e",
   "metadata": {},
   "outputs": [],
   "source": []
  },
  {
   "cell_type": "code",
   "execution_count": null,
   "id": "20ff1d57",
   "metadata": {},
   "outputs": [],
   "source": []
  },
  {
   "cell_type": "code",
   "execution_count": null,
   "id": "202a8f2e",
   "metadata": {},
   "outputs": [],
   "source": []
  },
  {
   "cell_type": "code",
   "execution_count": null,
   "id": "bf85f7ed",
   "metadata": {},
   "outputs": [],
   "source": []
  },
  {
   "cell_type": "code",
   "execution_count": null,
   "id": "eaf40c4c",
   "metadata": {},
   "outputs": [],
   "source": []
  },
  {
   "cell_type": "code",
   "execution_count": null,
   "id": "c4bfe4aa",
   "metadata": {},
   "outputs": [],
   "source": []
  },
  {
   "cell_type": "code",
   "execution_count": 11,
   "id": "8bdba7f9",
   "metadata": {},
   "outputs": [
    {
     "name": "stdout",
     "output_type": "stream",
     "text": [
      "   d  e   f \n",
      "1  a  b     \n",
      "2  x  y     \n",
      "3  m  n  NaN\n"
     ]
    }
   ],
   "source": [
    "x=(\"d,e,f \\n\"\n",
    "\"1,a,b, \\n\"\n",
    "\"2,x,y, \\n\"\n",
    "\"3,m,n,\")\n",
    "\n",
    "df=pd.read_csv(StringIO(x))\n",
    "\n",
    "print(df)\n",
    "\n",
    "\n",
    "#here value is 4 for every row row 0 te 1,a,b and comma a6e but value nai\n",
    "#bydefault 1st column ta integer bole sytake index no hisabe nia6e"
   ]
  },
  {
   "cell_type": "markdown",
   "id": "cd5739ed",
   "metadata": {},
   "source": [
    "## don't want 1st column to be index no"
   ]
  },
  {
   "cell_type": "code",
   "execution_count": 13,
   "id": "5edadaf5",
   "metadata": {},
   "outputs": [
    {
     "name": "stdout",
     "output_type": "stream",
     "text": [
      "   d  e f \n",
      "0  1  a  b\n",
      "1  2  x  y\n",
      "2  3  m  n\n"
     ]
    }
   ],
   "source": [
    "x=(\"d,e,f \\n\"\n",
    "\"1,a,b, \\n\"\n",
    "\"2,x,y, \\n\"\n",
    "\"3,m,n,\")\n",
    "\n",
    "df=pd.read_csv(StringIO(x),index_col=False)\n",
    "\n",
    "print(df)"
   ]
  },
  {
   "cell_type": "markdown",
   "id": "f589ab14",
   "metadata": {},
   "source": [
    "# =========Escape character========"
   ]
  },
  {
   "cell_type": "markdown",
   "id": "f61d861e",
   "metadata": {},
   "source": [
    "### to remove any character from dataframe"
   ]
  },
  {
   "cell_type": "code",
   "execution_count": 6,
   "id": "7a0264d1",
   "metadata": {},
   "outputs": [
    {
     "name": "stdout",
     "output_type": "stream",
     "text": [
      "                                        a     b\n",
      "hello,\\How are you\\\"  today is wednesday\"  2021\n"
     ]
    }
   ],
   "source": [
    "data='a,b\\n\"hello,\\\\\"How are you\\\\\",today is wednesday\",2021 '\n",
    "\n",
    "df=pd.read_csv(StringIO(data))\n",
    "\n",
    "print(df)\n",
    "\n",
    "\n",
    "#a,b column name"
   ]
  },
  {
   "cell_type": "code",
   "execution_count": 7,
   "id": "6136e21a",
   "metadata": {},
   "outputs": [
    {
     "name": "stdout",
     "output_type": "stream",
     "text": [
      "                                        a     b\n",
      "0  hello,\"How are you\",today is wednesday  2021\n"
     ]
    }
   ],
   "source": [
    "data='a,b\\n\"hello,\\\\\"How are you\\\\\",today is wednesday\",2021 '\n",
    "\n",
    "df=pd.read_csv(StringIO(data),escapechar=\"\\\\\")\n",
    "\n",
    "print(df)\n"
   ]
  },
  {
   "cell_type": "markdown",
   "id": "30ef49c2",
   "metadata": {},
   "source": [
    "# ========Json Data read==========\n",
    "\n",
    ".....api return json data"
   ]
  },
  {
   "cell_type": "code",
   "execution_count": null,
   "id": "dc9e6a73",
   "metadata": {},
   "outputs": [],
   "source": [
    "#from url\n",
    "\n",
    "\n",
    "data=\"..url..\"\n",
    "df=pd.read_json(data)\n",
    "print(df)"
   ]
  },
  {
   "cell_type": "code",
   "execution_count": 3,
   "id": "85dae952",
   "metadata": {},
   "outputs": [
    {
     "name": "stdout",
     "output_type": "stream",
     "text": [
      "  employee_name            email  \\\n",
      "0         James  james@gmail.com   \n",
      "\n",
      "                                         job_profile  \n",
      "0  {'title1': 'Team Lead', 'title2': 'Sr. Develop...  \n"
     ]
    }
   ],
   "source": [
    "#read json to csv\n",
    "\n",
    "Data ='{\"employee_name\": \"James\", \"email\": \"james@gmail.com\", \"job_profile\": [{\"title1\":\"Team Lead\", \"title2\":\"Sr. Developer\"}]}'\n",
    "df=pd.read_json(Data)\n",
    "\n",
    "print(df)"
   ]
  },
  {
   "cell_type": "markdown",
   "id": "95696940",
   "metadata": {},
   "source": [
    "# ===================HTML data Read============"
   ]
  },
  {
   "cell_type": "markdown",
   "id": "711f53be",
   "metadata": {},
   "source": [
    "## Reading HTML content"
   ]
  },
  {
   "cell_type": "code",
   "execution_count": 4,
   "id": "19149873",
   "metadata": {},
   "outputs": [
    {
     "name": "stdout",
     "output_type": "stream",
     "text": [
      "[    0                                                  1\n",
      "0 NaN  Look up currency in Wiktionary, the free dicti...,                                           Numismatics\n",
      "0                                            Currency\n",
      "1                    Coins Banknotes Forgery List ISO\n",
      "2                              Circulating currencies\n",
      "3             Africa The Americas Europe Asia Oceania\n",
      "4                                    Local currencies\n",
      "5                     Company scrip LETS Time dollars\n",
      "6             Fictional currenciesProposed currencies\n",
      "7                                             History\n",
      "8                               Historical currencies\n",
      "9   Greek Roman China India Persian Tibetan Thai F...\n",
      "10                                          Byzantine\n",
      "11                                Medieval currencies\n",
      "12                                         Production\n",
      "13      Mint Designers Coining Milling Hammering Cast\n",
      "14                                           Exonumia\n",
      "15                 Credit cards Medals Tokens Cheques\n",
      "16                                          Notaphily\n",
      "17                                          Banknotes\n",
      "18                                        Scripophily\n",
      "19                                       Stocks Bonds\n",
      "20  Glossary of numismatics  Numismatics portal  M...\n",
      "21  .mw-parser-output .navbar{display:inline;font-...,     0                                                  1\n",
      "0 NaN  This article needs additional citations for ve...,     0                                                  1\n",
      "0 NaN  This article needs additional citations for ve...,              Rank              Currency ISO 4217 code(symbol)  \\\n",
      "0               1  United States dollar             USD (US$)   \n",
      "1               2                  Euro               EUR (€)   \n",
      "2               3          Japanese yen               JPY (¥)   \n",
      "3               4        Pound sterling               GBP (£)   \n",
      "4               5     Australian dollar              AUD (A$)   \n",
      "5               6       Canadian dollar              CAD (C$)   \n",
      "6               7           Swiss franc             CHF (CHF)   \n",
      "7               8              Renminbi           CNY (元 / ¥)   \n",
      "8               9      Hong Kong dollar             HKD (HK$)   \n",
      "9              10    New Zealand dollar             NZD (NZ$)   \n",
      "10             11         Swedish krona              SEK (kr)   \n",
      "11             12      South Korean won               KRW (₩)   \n",
      "12             13      Singapore dollar              SGD (S$)   \n",
      "13             14       Norwegian krone              NOK (kr)   \n",
      "14             15          Mexican peso               MXN ($)   \n",
      "15             16          Indian rupee               INR (₹)   \n",
      "16             17         Russian ruble               RUB (₽)   \n",
      "17             18    South African rand               ZAR (R)   \n",
      "18             19          Turkish lira               TRY (₺)   \n",
      "19             20        Brazilian real              BRL (R$)   \n",
      "20             21     New Taiwan dollar             TWD (NT$)   \n",
      "21             22          Danish krone              DKK (kr)   \n",
      "22             23          Polish złoty              PLN (zł)   \n",
      "23             24             Thai baht               THB (฿)   \n",
      "24             25     Indonesian rupiah              IDR (Rp)   \n",
      "25             26      Hungarian forint              HUF (Ft)   \n",
      "26             27          Czech koruna              CZK (Kč)   \n",
      "27             28    Israeli new shekel               ILS (₪)   \n",
      "28             29          Chilean peso            CLP (CLP$)   \n",
      "29             30       Philippine peso               PHP (₱)   \n",
      "30             31            UAE dirham             AED (د.إ)   \n",
      "31             32        Colombian peso            COP (COL$)   \n",
      "32             33           Saudi riyal               SAR (﷼)   \n",
      "33             34     Malaysian ringgit              MYR (RM)   \n",
      "34             35          Romanian leu               RON (L)   \n",
      "35          Other                 Other                 Other   \n",
      "36  Total[note 1]         Total[note 1]         Total[note 1]   \n",
      "\n",
      "   % of daily trades(bought or sold)(April 2019)  \n",
      "0                                          88.3%  \n",
      "1                                          32.3%  \n",
      "2                                          16.8%  \n",
      "3                                          12.8%  \n",
      "4                                           6.8%  \n",
      "5                                           5.0%  \n",
      "6                                           5.0%  \n",
      "7                                           4.3%  \n",
      "8                                           3.5%  \n",
      "9                                           2.1%  \n",
      "10                                          2.0%  \n",
      "11                                          2.0%  \n",
      "12                                          1.8%  \n",
      "13                                          1.8%  \n",
      "14                                          1.7%  \n",
      "15                                          1.7%  \n",
      "16                                          1.1%  \n",
      "17                                          1.1%  \n",
      "18                                          1.1%  \n",
      "19                                          1.1%  \n",
      "20                                          0.9%  \n",
      "21                                          0.6%  \n",
      "22                                          0.6%  \n",
      "23                                          0.5%  \n",
      "24                                          0.4%  \n",
      "25                                          0.4%  \n",
      "26                                          0.4%  \n",
      "27                                          0.3%  \n",
      "28                                          0.3%  \n",
      "29                                          0.3%  \n",
      "30                                          0.2%  \n",
      "31                                          0.2%  \n",
      "32                                          0.2%  \n",
      "33                                          0.1%  \n",
      "34                                          0.1%  \n",
      "35                                          2.2%  \n",
      "36                                        200.0%  ,     Rank              Currency January 2018            Currency.1 August 2019\n",
      "0    NaN                 World      100.00%                 World     100.00%\n",
      "1    1.0  United States dollar       38.53%  United States dollar      42.52%\n",
      "2    2.0                  Euro       32.75%                  Euro      32.06%\n",
      "3    3.0        Pound sterling        7.22%        Pound sterling       6.21%\n",
      "4    4.0          Japanese yen        2.80%          Japanese yen       3.61%\n",
      "5    5.0              Renminbi        1.66%              Renminbi       2.22%\n",
      "6    6.0       Canadian dollar        1.51%       Canadian dollar       1.76%\n",
      "7    7.0           Swiss franc        1.42%     Australian dollar       1.57%\n",
      "8    8.0     Australian dollar        1.38%      Hong Kong dollar       1.48%\n",
      "9    9.0      Hong Kong dollar        1.32%             Thai baht       1.00%\n",
      "10  10.0      Singapore dollar        1.01%      Singapore dollar       0.98%\n",
      "11  11.0             Thai baht        0.95%           Swiss franc       0.98%\n",
      "12  12.0         Swedish krona        0.85%         Swedish krona       0.79%\n",
      "13  13.0       Norwegian krone        0.64%       Norwegian krone       0.71%\n",
      "14  14.0          Polish złoty        0.47%          Polish złoty       0.56%\n",
      "15  15.0     Malaysian ringgit        0.41%     Malaysian ringgit       0.43%,                                                    0  \\\n",
      "0  Related concepts Counterfeit money Currency ba...   \n",
      "\n",
      "                                                   1  \\\n",
      "0  Accounting units Currency pair Currency symbol...   \n",
      "\n",
      "                                                   2  \n",
      "0  Lists ISO 4217 List of alternative names for c...  ,     0                                                  1\n",
      "0 NaN  Wikidata has the property: currency (P38) (see...,   vteMedium of exchange                            vteMedium of exchange.1  \\\n",
      "0       Commodity money  Precious metals Salt (Roman world) Koku (rice)...   \n",
      "1      Domestic animals  Water buffalo (SE Asia) Cow (Hindu) Camel (Ara...   \n",
      "2  Representative money  Bimetallism Digital gold currency Gold certifi...   \n",
      "3     Money(Fiat/Token)  Bailment Banknote Central bank digital currenc...   \n",
      "4               General  List of historical currencies Barter Coinciden...   \n",
      "\n",
      "  vteMedium of exchange.2  \n",
      "0            Money portal  \n",
      "1            Money portal  \n",
      "2            Money portal  \n",
      "3                     NaN  \n",
      "4                     NaN  ,                       0                                                  1\n",
      "0      Domestic animals  Water buffalo (SE Asia) Cow (Hindu) Camel (Ara...\n",
      "1  Representative money  Bimetallism Digital gold currency Gold certifi...,                                         vteEconomics  \\\n",
      "0  Economic theory Political economy Applied econ...   \n",
      "1                                        Methodology   \n",
      "2                                     Microeconomics   \n",
      "3                                     Macroeconomics   \n",
      "4                              Mathematicaleconomics   \n",
      "5                                     Applied fields   \n",
      "6               Schools (history)of economic thought   \n",
      "7     Notable economistsand thinkerswithin economics   \n",
      "8                         Internationalorganizations   \n",
      "9  Category Index Lists Outline Publications Busi...   \n",
      "\n",
      "                                      vteEconomics.1  \n",
      "0  Economic theory Political economy Applied econ...  \n",
      "1  Economic model Economic systems Microfoundatio...  \n",
      "2  Aggregation problem Budget set Consumer choice...  \n",
      "3  Aggregate demand Balance of payments Business ...  \n",
      "4  Contract theory Decision theory Econometrics G...  \n",
      "5  Agricultural Business Demographic Development ...  \n",
      "6  American (National) Ancient thought Anarchist ...  \n",
      "7  François Quesnay Adam Smith David Ricardo Thom...  \n",
      "8  Asia-Pacific Economic Cooperation Economic Coo...  \n",
      "9  Category Index Lists Outline Publications Busi...  ,   vteCurrencies of Europe                          vteCurrencies of Europe.1\n",
      "0          European Union  Bulgarian lev Croatian kuna Czech koruna Danis...\n",
      "1                 Eastern  Armenian dram Artsakh dram (unrecognised) Azer...\n",
      "2                Southern  Albanian lek Bosnia and Herzegovina convertibl...\n",
      "3                 Western  British pound sterling Faroese króna Gibraltar...,     Authority control                  Authority control.1\n",
      "0             General  Integrated Authority File (Germany)\n",
      "1  National libraries                        United States\n",
      "2               Other                   Microsoft Academic]\n"
     ]
    }
   ],
   "source": [
    "#wikipedia r currency page e ja ja table 6ilo sob read kore nilam\n",
    "\n",
    "\n",
    "data=\"https://en.wikipedia.org/wiki/Currency\"\n",
    "\n",
    "df=pd.read_html(data)\n",
    "\n",
    "print(df)"
   ]
  },
  {
   "cell_type": "markdown",
   "id": "fd1f1829",
   "metadata": {},
   "source": [
    "if there are lots of table we can fetch only 1 table by giving table index no"
   ]
  },
  {
   "cell_type": "code",
   "execution_count": 5,
   "id": "c97dce1e",
   "metadata": {},
   "outputs": [
    {
     "name": "stdout",
     "output_type": "stream",
     "text": [
      "    0                                                  1\n",
      "0 NaN  Look up currency in Wiktionary, the free dicti...\n"
     ]
    }
   ],
   "source": [
    "#only print particular table\n",
    "#1st table e ja 6ilo only seta\n",
    "\n",
    "data=\"https://en.wikipedia.org/wiki/Currency\"\n",
    "\n",
    "df=pd.read_html(data)\n",
    "\n",
    "print(df[0])"
   ]
  },
  {
   "cell_type": "code",
   "execution_count": 6,
   "id": "11be5db7",
   "metadata": {},
   "outputs": [
    {
     "name": "stdout",
     "output_type": "stream",
     "text": [
      "             Rank              Currency ISO 4217 code(symbol)  \\\n",
      "0               1  United States dollar             USD (US$)   \n",
      "1               2                  Euro               EUR (€)   \n",
      "2               3          Japanese yen               JPY (¥)   \n",
      "3               4        Pound sterling               GBP (£)   \n",
      "4               5     Australian dollar              AUD (A$)   \n",
      "5               6       Canadian dollar              CAD (C$)   \n",
      "6               7           Swiss franc             CHF (CHF)   \n",
      "7               8              Renminbi           CNY (元 / ¥)   \n",
      "8               9      Hong Kong dollar             HKD (HK$)   \n",
      "9              10    New Zealand dollar             NZD (NZ$)   \n",
      "10             11         Swedish krona              SEK (kr)   \n",
      "11             12      South Korean won               KRW (₩)   \n",
      "12             13      Singapore dollar              SGD (S$)   \n",
      "13             14       Norwegian krone              NOK (kr)   \n",
      "14             15          Mexican peso               MXN ($)   \n",
      "15             16          Indian rupee               INR (₹)   \n",
      "16             17         Russian ruble               RUB (₽)   \n",
      "17             18    South African rand               ZAR (R)   \n",
      "18             19          Turkish lira               TRY (₺)   \n",
      "19             20        Brazilian real              BRL (R$)   \n",
      "20             21     New Taiwan dollar             TWD (NT$)   \n",
      "21             22          Danish krone              DKK (kr)   \n",
      "22             23          Polish złoty              PLN (zł)   \n",
      "23             24             Thai baht               THB (฿)   \n",
      "24             25     Indonesian rupiah              IDR (Rp)   \n",
      "25             26      Hungarian forint              HUF (Ft)   \n",
      "26             27          Czech koruna              CZK (Kč)   \n",
      "27             28    Israeli new shekel               ILS (₪)   \n",
      "28             29          Chilean peso            CLP (CLP$)   \n",
      "29             30       Philippine peso               PHP (₱)   \n",
      "30             31            UAE dirham             AED (د.إ)   \n",
      "31             32        Colombian peso            COP (COL$)   \n",
      "32             33           Saudi riyal               SAR (﷼)   \n",
      "33             34     Malaysian ringgit              MYR (RM)   \n",
      "34             35          Romanian leu               RON (L)   \n",
      "35          Other                 Other                 Other   \n",
      "36  Total[note 1]         Total[note 1]         Total[note 1]   \n",
      "\n",
      "   % of daily trades(bought or sold)(April 2019)  \n",
      "0                                          88.3%  \n",
      "1                                          32.3%  \n",
      "2                                          16.8%  \n",
      "3                                          12.8%  \n",
      "4                                           6.8%  \n",
      "5                                           5.0%  \n",
      "6                                           5.0%  \n",
      "7                                           4.3%  \n",
      "8                                           3.5%  \n",
      "9                                           2.1%  \n",
      "10                                          2.0%  \n",
      "11                                          2.0%  \n",
      "12                                          1.8%  \n",
      "13                                          1.8%  \n",
      "14                                          1.7%  \n",
      "15                                          1.7%  \n",
      "16                                          1.1%  \n",
      "17                                          1.1%  \n",
      "18                                          1.1%  \n",
      "19                                          1.1%  \n",
      "20                                          0.9%  \n",
      "21                                          0.6%  \n",
      "22                                          0.6%  \n",
      "23                                          0.5%  \n",
      "24                                          0.4%  \n",
      "25                                          0.4%  \n",
      "26                                          0.4%  \n",
      "27                                          0.3%  \n",
      "28                                          0.3%  \n",
      "29                                          0.3%  \n",
      "30                                          0.2%  \n",
      "31                                          0.2%  \n",
      "32                                          0.2%  \n",
      "33                                          0.1%  \n",
      "34                                          0.1%  \n",
      "35                                          2.2%  \n",
      "36                                        200.0%  \n"
     ]
    }
   ],
   "source": [
    "data=\"https://en.wikipedia.org/wiki/Currency\"\n",
    "\n",
    "df=pd.read_html(data)\n",
    "\n",
    "print(df[4])"
   ]
  },
  {
   "cell_type": "code",
   "execution_count": 7,
   "id": "b95d0941",
   "metadata": {},
   "outputs": [
    {
     "name": "stdout",
     "output_type": "stream",
     "text": [
      "    Rank              Currency January 2018            Currency.1 August 2019\n",
      "0    NaN                 World      100.00%                 World     100.00%\n",
      "1    1.0  United States dollar       38.53%  United States dollar      42.52%\n",
      "2    2.0                  Euro       32.75%                  Euro      32.06%\n",
      "3    3.0        Pound sterling        7.22%        Pound sterling       6.21%\n",
      "4    4.0          Japanese yen        2.80%          Japanese yen       3.61%\n",
      "5    5.0              Renminbi        1.66%              Renminbi       2.22%\n",
      "6    6.0       Canadian dollar        1.51%       Canadian dollar       1.76%\n",
      "7    7.0           Swiss franc        1.42%     Australian dollar       1.57%\n",
      "8    8.0     Australian dollar        1.38%      Hong Kong dollar       1.48%\n",
      "9    9.0      Hong Kong dollar        1.32%             Thai baht       1.00%\n",
      "10  10.0      Singapore dollar        1.01%      Singapore dollar       0.98%\n",
      "11  11.0             Thai baht        0.95%           Swiss franc       0.98%\n",
      "12  12.0         Swedish krona        0.85%         Swedish krona       0.79%\n",
      "13  13.0       Norwegian krone        0.64%       Norwegian krone       0.71%\n",
      "14  14.0          Polish złoty        0.47%          Polish złoty       0.56%\n",
      "15  15.0     Malaysian ringgit        0.41%     Malaysian ringgit       0.43%\n"
     ]
    }
   ],
   "source": [
    "#currency column name ta je je table e tykbe jai protek ta table o read korbe\n",
    "\n",
    "data=\"https://en.wikipedia.org/wiki/Currency\"\n",
    "\n",
    "df=pd.read_html(data,match=\"Currency\")\n",
    "\n",
    "print(df[4])"
   ]
  },
  {
   "cell_type": "code",
   "execution_count": 8,
   "id": "72cce987",
   "metadata": {},
   "outputs": [
    {
     "name": "stdout",
     "output_type": "stream",
     "text": [
      "  Economic theory Political economy Applied economics  \\\n",
      "0                                        Methodology    \n",
      "1                                     Microeconomics    \n",
      "2                                     Macroeconomics    \n",
      "3                              Mathematicaleconomics    \n",
      "4                                     Applied fields    \n",
      "5               Schools (history)of economic thought    \n",
      "6     Notable economistsand thinkerswithin economics    \n",
      "7                         Internationalorganizations    \n",
      "8  Category Index Lists Outline Publications Busi...    \n",
      "\n",
      "  Economic theory Political economy Applied economics.1  \n",
      "0  Economic model Economic systems Microfoundatio...     \n",
      "1  Aggregation problem Budget set Consumer choice...     \n",
      "2  Aggregate demand Balance of payments Business ...     \n",
      "3  Contract theory Decision theory Econometrics G...     \n",
      "4  Agricultural Business Demographic Development ...     \n",
      "5  American (National) Ancient thought Anarchist ...     \n",
      "6  François Quesnay Adam Smith David Ricardo Thom...     \n",
      "7  Asia-Pacific Economic Cooperation Economic Coo...     \n",
      "8  Category Index Lists Outline Publications Busi...     \n"
     ]
    }
   ],
   "source": [
    "#header change\n",
    "\n",
    "\n",
    "data=\"https://en.wikipedia.org/wiki/Currency\"\n",
    "\n",
    "df=pd.read_html(data,match=\"Currency\",header=1)\n",
    "\n",
    "print(df[4])"
   ]
  },
  {
   "cell_type": "markdown",
   "id": "ae85a83e",
   "metadata": {},
   "source": [
    "# Reading EXcel Files"
   ]
  },
  {
   "cell_type": "code",
   "execution_count": null,
   "id": "cd8336b2",
   "metadata": {},
   "outputs": [],
   "source": [
    "data=\"Excel_Sample.xlsx/url\"\n",
    "df=pd.read_excel(data)\n",
    "print(df)"
   ]
  },
  {
   "cell_type": "code",
   "execution_count": null,
   "id": "ef564448",
   "metadata": {},
   "outputs": [],
   "source": [
    "======Load data from excel file======\n",
    "\n",
    "df=pd.read_excel(\"path\",sheet_name=\"sheet1\",header=0)\n",
    "\n",
    "====write a csv===\n",
    "\n",
    "df=pd.to_excel(\"path\",sheet_name=\"sheet1\",header=True)"
   ]
  },
  {
   "cell_type": "markdown",
   "id": "ec4b7f63",
   "metadata": {},
   "source": [
    "\n",
    "# =================drop() =delete row==========="
   ]
  },
  {
   "cell_type": "code",
   "execution_count": 65,
   "id": "a0084470",
   "metadata": {},
   "outputs": [
    {
     "name": "stdout",
     "output_type": "stream",
     "text": [
      "  Unnamed: 0  col1  col2  col3  col4  col5  col6  col7  col8  col9 col10\n",
      "0       row1     1   NaN  21.0    31    41  51.0    61    71  81.0     A\n",
      "1       row2   200   NaN  22.0    32    42  52.0    62    72  82.0     B\n",
      "2       row3     3  13.0  23.0    33    43  53.0    63    73   NaN     C\n",
      "3       row4     0  14.0  24.0     0    44  54.0    64    74  84.0     D\n",
      "4       row5     5  15.0  25.0    35    45  55.0    65    75  85.0     E\n",
      "5       row6     6  16.0  26.0    36    46  56.0    66    76  86.0     F\n",
      "6       row7     7  17.0  27.0    37    47  57.0    67    77  87.0     G\n",
      "7       row8     8  18.0  28.0    38    48  58.0    68    78  88.0     H\n",
      "8       row9     9  19.0   NaN    39    49   NaN    69    79  89.0     I\n",
      "9      row10    10  20.0  30.0    40    50  60.0    70    80  90.0     J \n",
      " \n",
      "\n",
      "  Unnamed: 0  col1  col2  col3  col4  col5  col6  col7  col8  col9 col10\n",
      "0       row1     1   NaN  21.0    31    41  51.0    61    71  81.0     A\n",
      "2       row3     3  13.0  23.0    33    43  53.0    63    73   NaN     C\n",
      "3       row4     0  14.0  24.0     0    44  54.0    64    74  84.0     D\n",
      "4       row5     5  15.0  25.0    35    45  55.0    65    75  85.0     E\n",
      "5       row6     6  16.0  26.0    36    46  56.0    66    76  86.0     F\n",
      "6       row7     7  17.0  27.0    37    47  57.0    67    77  87.0     G\n",
      "7       row8     8  18.0  28.0    38    48  58.0    68    78  88.0     H\n",
      "8       row9     9  19.0   NaN    39    49   NaN    69    79  89.0     I\n",
      "9      row10    10  20.0  30.0    40    50  60.0    70    80  90.0     J \n",
      " \n",
      "\n"
     ]
    }
   ],
   "source": [
    "d=pd.read_csv(\"demo.csv\",sep=\"\\t\")\n",
    "print(d,'\\n','\\n')\n",
    "\n",
    "d.drop(1,inplace=True)\n",
    "\n",
    "print(d,'\\n','\\n')"
   ]
  },
  {
   "cell_type": "code",
   "execution_count": 63,
   "id": "f1def589",
   "metadata": {},
   "outputs": [
    {
     "name": "stdout",
     "output_type": "stream",
     "text": [
      "  Unnamed: 0  col1  col2  col3  col4  col5  col6  col7  col8  col9 col10\n",
      "0       row1     1   NaN  21.0    31    41  51.0    61    71  81.0     A\n",
      "1       row2   200   NaN  22.0    32    42  52.0    62    72  82.0     B\n",
      "2       row3     3  13.0  23.0    33    43  53.0    63    73   NaN     C\n",
      "3       row4     0  14.0  24.0     0    44  54.0    64    74  84.0     D\n",
      "4       row5     5  15.0  25.0    35    45  55.0    65    75  85.0     E\n",
      "5       row6     6  16.0  26.0    36    46  56.0    66    76  86.0     F\n",
      "6       row7     7  17.0  27.0    37    47  57.0    67    77  87.0     G\n",
      "7       row8     8  18.0  28.0    38    48  58.0    68    78  88.0     H\n",
      "8       row9     9  19.0   NaN    39    49   NaN    69    79  89.0     I\n",
      "9      row10    10  20.0  30.0    40    50  60.0    70    80  90.0     J \n",
      " \n",
      "\n",
      "  Unnamed: 0  col1  col2  col3  col4  col5  col6  col7  col8  col9 col10\n",
      "0       row1     1   NaN  21.0    31    41  51.0    61    71  81.0     A\n",
      "1       row2   200   NaN  22.0    32    42  52.0    62    72  82.0     B\n",
      "2       row3     3  13.0  23.0    33    43  53.0    63    73   NaN     C\n",
      "3       row4     0  14.0  24.0     0    44  54.0    64    74  84.0     D\n",
      "7       row8     8  18.0  28.0    38    48  58.0    68    78  88.0     H\n",
      "8       row9     9  19.0   NaN    39    49   NaN    69    79  89.0     I\n",
      "9      row10    10  20.0  30.0    40    50  60.0    70    80  90.0     J \n",
      " \n",
      "\n"
     ]
    }
   ],
   "source": [
    "d=pd.read_csv(\"demo.csv\",sep=\"\\t\")\n",
    "print(d,'\\n','\\n')\n",
    "\n",
    "d.drop([4,5,6],inplace=True)\n",
    "\n",
    "print(d,'\\n','\\n')"
   ]
  },
  {
   "cell_type": "code",
   "execution_count": null,
   "id": "adf03f6c",
   "metadata": {},
   "outputs": [],
   "source": [
    "#while reading data ,data might have some errors,dulpicate values,missing values,formating error\n",
    "#panda provide solution such data\n",
    "\n",
    "\n",
    "#===finding missing data===\n",
    "\n",
    "df.isna()\n",
    "\n",
    "#==5 column and 15 rows it will give true for missing value\n",
    "================Or=======\n",
    "by itteration\n",
    "\n",
    "for i in range(len(df)):\n",
    "    for col in df.columns():\n",
    "    if df.loc[i,col].isna():\n",
    "        .....\n",
    "        \n",
    "=======want to fill missing value====\n",
    "df.filna(0)\n",
    "\n",
    "#want to delete the row that have missing value\n",
    "\n",
    "df.dropna()\n",
    "\n",
    "#will drop all the rows that have missing value\n",
    "\n",
    "df[\"height\"].fillna[x] #fill the missing data"
   ]
  },
  {
   "cell_type": "markdown",
   "id": "4b3c329e",
   "metadata": {},
   "source": [
    "# ===========Pandas - Cleaning Empty Cells============="
   ]
  },
  {
   "cell_type": "code",
   "execution_count": 26,
   "id": "f5669dd6",
   "metadata": {},
   "outputs": [
    {
     "name": "stdout",
     "output_type": "stream",
     "text": [
      "  Unnamed: 0  col1  col2  col3  col4  col5  col6  col7  col8  col9 col10\n",
      "0       row1     1   NaN    21    31    41    51    61    71    81     A\n",
      "1       row2   200   NaN    22    32    42    52    62    72    82     B\n",
      "2       row3     3  13.0    23    33    43    53    63    73    83     C\n",
      "3       row4     0  14.0    24     0    44    54    64    74    84     D\n",
      "4       row5     5  15.0    25    35    45    55    65    75    85     E\n",
      "5       row6     6  16.0    26    36    46    56    66    76    86     F\n",
      "6       row7     7  17.0    27    37    47    57    67    77    87     G\n",
      "7       row8     8  18.0    28    38    48    58    68    78    88     H\n",
      "8       row9     9  19.0    29    39    49    59    69    79    89     I\n",
      "9      row10    10  20.0    30    40    50    60    70    80    90     J\n"
     ]
    }
   ],
   "source": [
    "d=pd.read_csv(\"demo.csv\",sep=\"\\t\")\n",
    "print(d)"
   ]
  },
  {
   "cell_type": "markdown",
   "id": "27a345fb",
   "metadata": {},
   "source": [
    "# ============= isna()=========="
   ]
  },
  {
   "cell_type": "markdown",
   "id": "c0e7f557",
   "metadata": {},
   "source": [
    "# Checking for null/nan value"
   ]
  },
  {
   "cell_type": "code",
   "execution_count": 15,
   "id": "b5119d69",
   "metadata": {},
   "outputs": [
    {
     "data": {
      "text/html": [
       "<div>\n",
       "<style scoped>\n",
       "    .dataframe tbody tr th:only-of-type {\n",
       "        vertical-align: middle;\n",
       "    }\n",
       "\n",
       "    .dataframe tbody tr th {\n",
       "        vertical-align: top;\n",
       "    }\n",
       "\n",
       "    .dataframe thead th {\n",
       "        text-align: right;\n",
       "    }\n",
       "</style>\n",
       "<table border=\"1\" class=\"dataframe\">\n",
       "  <thead>\n",
       "    <tr style=\"text-align: right;\">\n",
       "      <th></th>\n",
       "      <th>Unnamed: 0</th>\n",
       "      <th>col1</th>\n",
       "      <th>col2</th>\n",
       "      <th>col3</th>\n",
       "      <th>col4</th>\n",
       "      <th>col5</th>\n",
       "      <th>col6</th>\n",
       "      <th>col7</th>\n",
       "      <th>col8</th>\n",
       "      <th>col9</th>\n",
       "      <th>col10</th>\n",
       "    </tr>\n",
       "  </thead>\n",
       "  <tbody>\n",
       "    <tr>\n",
       "      <th>0</th>\n",
       "      <td>False</td>\n",
       "      <td>False</td>\n",
       "      <td>True</td>\n",
       "      <td>False</td>\n",
       "      <td>False</td>\n",
       "      <td>False</td>\n",
       "      <td>False</td>\n",
       "      <td>False</td>\n",
       "      <td>False</td>\n",
       "      <td>False</td>\n",
       "      <td>False</td>\n",
       "    </tr>\n",
       "    <tr>\n",
       "      <th>1</th>\n",
       "      <td>False</td>\n",
       "      <td>False</td>\n",
       "      <td>True</td>\n",
       "      <td>False</td>\n",
       "      <td>False</td>\n",
       "      <td>False</td>\n",
       "      <td>False</td>\n",
       "      <td>False</td>\n",
       "      <td>False</td>\n",
       "      <td>False</td>\n",
       "      <td>False</td>\n",
       "    </tr>\n",
       "    <tr>\n",
       "      <th>2</th>\n",
       "      <td>False</td>\n",
       "      <td>False</td>\n",
       "      <td>False</td>\n",
       "      <td>False</td>\n",
       "      <td>False</td>\n",
       "      <td>False</td>\n",
       "      <td>False</td>\n",
       "      <td>False</td>\n",
       "      <td>False</td>\n",
       "      <td>False</td>\n",
       "      <td>False</td>\n",
       "    </tr>\n",
       "    <tr>\n",
       "      <th>3</th>\n",
       "      <td>False</td>\n",
       "      <td>False</td>\n",
       "      <td>False</td>\n",
       "      <td>False</td>\n",
       "      <td>False</td>\n",
       "      <td>False</td>\n",
       "      <td>False</td>\n",
       "      <td>False</td>\n",
       "      <td>False</td>\n",
       "      <td>False</td>\n",
       "      <td>False</td>\n",
       "    </tr>\n",
       "    <tr>\n",
       "      <th>4</th>\n",
       "      <td>False</td>\n",
       "      <td>False</td>\n",
       "      <td>False</td>\n",
       "      <td>False</td>\n",
       "      <td>False</td>\n",
       "      <td>False</td>\n",
       "      <td>False</td>\n",
       "      <td>False</td>\n",
       "      <td>False</td>\n",
       "      <td>False</td>\n",
       "      <td>False</td>\n",
       "    </tr>\n",
       "    <tr>\n",
       "      <th>5</th>\n",
       "      <td>False</td>\n",
       "      <td>False</td>\n",
       "      <td>False</td>\n",
       "      <td>False</td>\n",
       "      <td>False</td>\n",
       "      <td>False</td>\n",
       "      <td>False</td>\n",
       "      <td>False</td>\n",
       "      <td>False</td>\n",
       "      <td>False</td>\n",
       "      <td>False</td>\n",
       "    </tr>\n",
       "    <tr>\n",
       "      <th>6</th>\n",
       "      <td>False</td>\n",
       "      <td>False</td>\n",
       "      <td>False</td>\n",
       "      <td>False</td>\n",
       "      <td>False</td>\n",
       "      <td>False</td>\n",
       "      <td>False</td>\n",
       "      <td>False</td>\n",
       "      <td>False</td>\n",
       "      <td>False</td>\n",
       "      <td>False</td>\n",
       "    </tr>\n",
       "    <tr>\n",
       "      <th>7</th>\n",
       "      <td>False</td>\n",
       "      <td>False</td>\n",
       "      <td>False</td>\n",
       "      <td>False</td>\n",
       "      <td>False</td>\n",
       "      <td>False</td>\n",
       "      <td>False</td>\n",
       "      <td>False</td>\n",
       "      <td>False</td>\n",
       "      <td>False</td>\n",
       "      <td>False</td>\n",
       "    </tr>\n",
       "    <tr>\n",
       "      <th>8</th>\n",
       "      <td>False</td>\n",
       "      <td>False</td>\n",
       "      <td>False</td>\n",
       "      <td>False</td>\n",
       "      <td>False</td>\n",
       "      <td>False</td>\n",
       "      <td>False</td>\n",
       "      <td>False</td>\n",
       "      <td>False</td>\n",
       "      <td>False</td>\n",
       "      <td>False</td>\n",
       "    </tr>\n",
       "    <tr>\n",
       "      <th>9</th>\n",
       "      <td>False</td>\n",
       "      <td>False</td>\n",
       "      <td>False</td>\n",
       "      <td>False</td>\n",
       "      <td>False</td>\n",
       "      <td>False</td>\n",
       "      <td>False</td>\n",
       "      <td>False</td>\n",
       "      <td>False</td>\n",
       "      <td>False</td>\n",
       "      <td>False</td>\n",
       "    </tr>\n",
       "  </tbody>\n",
       "</table>\n",
       "</div>"
      ],
      "text/plain": [
       "   Unnamed: 0   col1   col2   col3   col4   col5   col6   col7   col8   col9  \\\n",
       "0       False  False   True  False  False  False  False  False  False  False   \n",
       "1       False  False   True  False  False  False  False  False  False  False   \n",
       "2       False  False  False  False  False  False  False  False  False  False   \n",
       "3       False  False  False  False  False  False  False  False  False  False   \n",
       "4       False  False  False  False  False  False  False  False  False  False   \n",
       "5       False  False  False  False  False  False  False  False  False  False   \n",
       "6       False  False  False  False  False  False  False  False  False  False   \n",
       "7       False  False  False  False  False  False  False  False  False  False   \n",
       "8       False  False  False  False  False  False  False  False  False  False   \n",
       "9       False  False  False  False  False  False  False  False  False  False   \n",
       "\n",
       "   col10  \n",
       "0  False  \n",
       "1  False  \n",
       "2  False  \n",
       "3  False  \n",
       "4  False  \n",
       "5  False  \n",
       "6  False  \n",
       "7  False  \n",
       "8  False  \n",
       "9  False  "
      ]
     },
     "execution_count": 15,
     "metadata": {},
     "output_type": "execute_result"
    }
   ],
   "source": [
    "d.isna()"
   ]
  },
  {
   "cell_type": "code",
   "execution_count": 22,
   "id": "be6939d9",
   "metadata": {},
   "outputs": [
    {
     "data": {
      "text/plain": [
       "0     True\n",
       "1     True\n",
       "2    False\n",
       "3    False\n",
       "4    False\n",
       "5    False\n",
       "6    False\n",
       "7    False\n",
       "8    False\n",
       "9    False\n",
       "Name: col2, dtype: bool"
      ]
     },
     "execution_count": 22,
     "metadata": {},
     "output_type": "execute_result"
    }
   ],
   "source": [
    "pd.isna(d['col2'])"
   ]
  },
  {
   "cell_type": "code",
   "execution_count": 25,
   "id": "54c0d701",
   "metadata": {},
   "outputs": [
    {
     "data": {
      "text/plain": [
       "0    False\n",
       "1    False\n",
       "2    False\n",
       "3    False\n",
       "4    False\n",
       "5    False\n",
       "6    False\n",
       "7    False\n",
       "8    False\n",
       "9    False\n",
       "Name: col3, dtype: bool"
      ]
     },
     "execution_count": 25,
     "metadata": {},
     "output_type": "execute_result"
    }
   ],
   "source": [
    "pd.isna(d['col3'])"
   ]
  },
  {
   "cell_type": "code",
   "execution_count": 24,
   "id": "408a154e",
   "metadata": {},
   "outputs": [
    {
     "data": {
      "text/plain": [
       "0"
      ]
     },
     "execution_count": 24,
     "metadata": {},
     "output_type": "execute_result"
    }
   ],
   "source": [
    "pd.isna(d['col3']).sum()"
   ]
  },
  {
   "cell_type": "markdown",
   "id": "9cd54edf",
   "metadata": {},
   "source": [
    "# To see how many nan value there in each column"
   ]
  },
  {
   "cell_type": "code",
   "execution_count": 16,
   "id": "c99858df",
   "metadata": {},
   "outputs": [
    {
     "data": {
      "text/plain": [
       "Unnamed: 0    0\n",
       "col1          0\n",
       "col2          2\n",
       "col3          0\n",
       "col4          0\n",
       "col5          0\n",
       "col6          0\n",
       "col7          0\n",
       "col8          0\n",
       "col9          0\n",
       "col10         0\n",
       "dtype: int64"
      ]
     },
     "execution_count": 16,
     "metadata": {},
     "output_type": "execute_result"
    }
   ],
   "source": [
    "d.isna().sum()"
   ]
  },
  {
   "cell_type": "markdown",
   "id": "e56a85fa",
   "metadata": {},
   "source": [
    "# ================Remove Rows=========="
   ]
  },
  {
   "cell_type": "markdown",
   "id": "01899fd9",
   "metadata": {},
   "source": [
    "### >>One way to deal with empty cells is to remove rows that contain empty cells."
   ]
  },
  {
   "cell_type": "markdown",
   "id": "c11fa60c",
   "metadata": {},
   "source": [
    "# ================dropna()================="
   ]
  },
  {
   "cell_type": "markdown",
   "id": "1e5e0db0",
   "metadata": {},
   "source": [
    "# to delete the row that have missing value"
   ]
  },
  {
   "cell_type": "markdown",
   "id": "493ec021",
   "metadata": {},
   "source": [
    "### Note: By default, the dropna() method returns a new DataFrame, and will not change the original."
   ]
  },
  {
   "cell_type": "markdown",
   "id": "4dcd16ba",
   "metadata": {},
   "source": [
    "### If you want to change the original DataFrame, use the ( inplace = True ) argument:"
   ]
  },
  {
   "cell_type": "code",
   "execution_count": 27,
   "id": "3f1681d1",
   "metadata": {},
   "outputs": [
    {
     "data": {
      "text/html": [
       "<div>\n",
       "<style scoped>\n",
       "    .dataframe tbody tr th:only-of-type {\n",
       "        vertical-align: middle;\n",
       "    }\n",
       "\n",
       "    .dataframe tbody tr th {\n",
       "        vertical-align: top;\n",
       "    }\n",
       "\n",
       "    .dataframe thead th {\n",
       "        text-align: right;\n",
       "    }\n",
       "</style>\n",
       "<table border=\"1\" class=\"dataframe\">\n",
       "  <thead>\n",
       "    <tr style=\"text-align: right;\">\n",
       "      <th></th>\n",
       "      <th>Unnamed: 0</th>\n",
       "      <th>col1</th>\n",
       "      <th>col2</th>\n",
       "      <th>col3</th>\n",
       "      <th>col4</th>\n",
       "      <th>col5</th>\n",
       "      <th>col6</th>\n",
       "      <th>col7</th>\n",
       "      <th>col8</th>\n",
       "      <th>col9</th>\n",
       "      <th>col10</th>\n",
       "    </tr>\n",
       "  </thead>\n",
       "  <tbody>\n",
       "    <tr>\n",
       "      <th>2</th>\n",
       "      <td>row3</td>\n",
       "      <td>3</td>\n",
       "      <td>13.0</td>\n",
       "      <td>23</td>\n",
       "      <td>33</td>\n",
       "      <td>43</td>\n",
       "      <td>53</td>\n",
       "      <td>63</td>\n",
       "      <td>73</td>\n",
       "      <td>83</td>\n",
       "      <td>C</td>\n",
       "    </tr>\n",
       "    <tr>\n",
       "      <th>3</th>\n",
       "      <td>row4</td>\n",
       "      <td>0</td>\n",
       "      <td>14.0</td>\n",
       "      <td>24</td>\n",
       "      <td>0</td>\n",
       "      <td>44</td>\n",
       "      <td>54</td>\n",
       "      <td>64</td>\n",
       "      <td>74</td>\n",
       "      <td>84</td>\n",
       "      <td>D</td>\n",
       "    </tr>\n",
       "    <tr>\n",
       "      <th>4</th>\n",
       "      <td>row5</td>\n",
       "      <td>5</td>\n",
       "      <td>15.0</td>\n",
       "      <td>25</td>\n",
       "      <td>35</td>\n",
       "      <td>45</td>\n",
       "      <td>55</td>\n",
       "      <td>65</td>\n",
       "      <td>75</td>\n",
       "      <td>85</td>\n",
       "      <td>E</td>\n",
       "    </tr>\n",
       "    <tr>\n",
       "      <th>5</th>\n",
       "      <td>row6</td>\n",
       "      <td>6</td>\n",
       "      <td>16.0</td>\n",
       "      <td>26</td>\n",
       "      <td>36</td>\n",
       "      <td>46</td>\n",
       "      <td>56</td>\n",
       "      <td>66</td>\n",
       "      <td>76</td>\n",
       "      <td>86</td>\n",
       "      <td>F</td>\n",
       "    </tr>\n",
       "    <tr>\n",
       "      <th>6</th>\n",
       "      <td>row7</td>\n",
       "      <td>7</td>\n",
       "      <td>17.0</td>\n",
       "      <td>27</td>\n",
       "      <td>37</td>\n",
       "      <td>47</td>\n",
       "      <td>57</td>\n",
       "      <td>67</td>\n",
       "      <td>77</td>\n",
       "      <td>87</td>\n",
       "      <td>G</td>\n",
       "    </tr>\n",
       "    <tr>\n",
       "      <th>7</th>\n",
       "      <td>row8</td>\n",
       "      <td>8</td>\n",
       "      <td>18.0</td>\n",
       "      <td>28</td>\n",
       "      <td>38</td>\n",
       "      <td>48</td>\n",
       "      <td>58</td>\n",
       "      <td>68</td>\n",
       "      <td>78</td>\n",
       "      <td>88</td>\n",
       "      <td>H</td>\n",
       "    </tr>\n",
       "    <tr>\n",
       "      <th>8</th>\n",
       "      <td>row9</td>\n",
       "      <td>9</td>\n",
       "      <td>19.0</td>\n",
       "      <td>29</td>\n",
       "      <td>39</td>\n",
       "      <td>49</td>\n",
       "      <td>59</td>\n",
       "      <td>69</td>\n",
       "      <td>79</td>\n",
       "      <td>89</td>\n",
       "      <td>I</td>\n",
       "    </tr>\n",
       "    <tr>\n",
       "      <th>9</th>\n",
       "      <td>row10</td>\n",
       "      <td>10</td>\n",
       "      <td>20.0</td>\n",
       "      <td>30</td>\n",
       "      <td>40</td>\n",
       "      <td>50</td>\n",
       "      <td>60</td>\n",
       "      <td>70</td>\n",
       "      <td>80</td>\n",
       "      <td>90</td>\n",
       "      <td>J</td>\n",
       "    </tr>\n",
       "  </tbody>\n",
       "</table>\n",
       "</div>"
      ],
      "text/plain": [
       "  Unnamed: 0  col1  col2  col3  col4  col5  col6  col7  col8  col9 col10\n",
       "2       row3     3  13.0    23    33    43    53    63    73    83     C\n",
       "3       row4     0  14.0    24     0    44    54    64    74    84     D\n",
       "4       row5     5  15.0    25    35    45    55    65    75    85     E\n",
       "5       row6     6  16.0    26    36    46    56    66    76    86     F\n",
       "6       row7     7  17.0    27    37    47    57    67    77    87     G\n",
       "7       row8     8  18.0    28    38    48    58    68    78    88     H\n",
       "8       row9     9  19.0    29    39    49    59    69    79    89     I\n",
       "9      row10    10  20.0    30    40    50    60    70    80    90     J"
      ]
     },
     "execution_count": 27,
     "metadata": {},
     "output_type": "execute_result"
    }
   ],
   "source": [
    "d.dropna()"
   ]
  },
  {
   "cell_type": "code",
   "execution_count": 28,
   "id": "601ae00e",
   "metadata": {},
   "outputs": [
    {
     "name": "stdout",
     "output_type": "stream",
     "text": [
      "  Unnamed: 0  col1  col2  col3  col4  col5  col6  col7  col8  col9 col10\n",
      "0       row1     1   NaN    21    31    41    51    61    71    81     A\n",
      "1       row2   200   NaN    22    32    42    52    62    72    82     B\n",
      "2       row3     3  13.0    23    33    43    53    63    73    83     C\n",
      "3       row4     0  14.0    24     0    44    54    64    74    84     D\n",
      "4       row5     5  15.0    25    35    45    55    65    75    85     E\n",
      "5       row6     6  16.0    26    36    46    56    66    76    86     F\n",
      "6       row7     7  17.0    27    37    47    57    67    77    87     G\n",
      "7       row8     8  18.0    28    38    48    58    68    78    88     H\n",
      "8       row9     9  19.0    29    39    49    59    69    79    89     I\n",
      "9      row10    10  20.0    30    40    50    60    70    80    90     J\n"
     ]
    }
   ],
   "source": [
    "print(d)  #not changing the original dataframe"
   ]
  },
  {
   "cell_type": "markdown",
   "id": "4d35c33e",
   "metadata": {},
   "source": [
    "## Note: Now, the dropna(inplace = True) will NOT return a new DataFrame, \n",
    "## but it will remove all rows containg NULL values from the original DataFrame."
   ]
  },
  {
   "cell_type": "code",
   "execution_count": 29,
   "id": "cf2d7cd1",
   "metadata": {},
   "outputs": [],
   "source": [
    "d.dropna(inplace=True) "
   ]
  },
  {
   "cell_type": "code",
   "execution_count": 30,
   "id": "5f3075ee",
   "metadata": {},
   "outputs": [
    {
     "name": "stdout",
     "output_type": "stream",
     "text": [
      "  Unnamed: 0  col1  col2  col3  col4  col5  col6  col7  col8  col9 col10\n",
      "2       row3     3  13.0    23    33    43    53    63    73    83     C\n",
      "3       row4     0  14.0    24     0    44    54    64    74    84     D\n",
      "4       row5     5  15.0    25    35    45    55    65    75    85     E\n",
      "5       row6     6  16.0    26    36    46    56    66    76    86     F\n",
      "6       row7     7  17.0    27    37    47    57    67    77    87     G\n",
      "7       row8     8  18.0    28    38    48    58    68    78    88     H\n",
      "8       row9     9  19.0    29    39    49    59    69    79    89     I\n",
      "9      row10    10  20.0    30    40    50    60    70    80    90     J\n"
     ]
    }
   ],
   "source": [
    "print(d)   #actually changing the original dataframe"
   ]
  },
  {
   "cell_type": "code",
   "execution_count": 17,
   "id": "8f4622ec",
   "metadata": {},
   "outputs": [],
   "source": [
    "#storing the dataframe that have deleted missing value row into another variable x\n",
    "\n",
    "x=d.dropna()\n",
    "\n"
   ]
  },
  {
   "cell_type": "code",
   "execution_count": 18,
   "id": "eb3bbfa9",
   "metadata": {},
   "outputs": [
    {
     "name": "stdout",
     "output_type": "stream",
     "text": [
      "  Unnamed: 0  col1  col2  col3  col4  col5  col6  col7  col8  col9 col10\n",
      "2       row3     3  13.0    23    33    43    53    63    73    83     C\n",
      "3       row4     0  14.0    24     0    44    54    64    74    84     D\n",
      "4       row5     5  15.0    25    35    45    55    65    75    85     E\n",
      "5       row6     6  16.0    26    36    46    56    66    76    86     F\n",
      "6       row7     7  17.0    27    37    47    57    67    77    87     G\n",
      "7       row8     8  18.0    28    38    48    58    68    78    88     H\n",
      "8       row9     9  19.0    29    39    49    59    69    79    89     I\n",
      "9      row10    10  20.0    30    40    50    60    70    80    90     J\n"
     ]
    }
   ],
   "source": [
    "print(x)"
   ]
  },
  {
   "cell_type": "code",
   "execution_count": null,
   "id": "b7f34f8e",
   "metadata": {},
   "outputs": [],
   "source": [
    "## HAndling Missing Values\n",
    "\n",
    "## Drop nan values\n",
    "\n",
    "# df.dropna(axis=0)\n",
    "\n",
    "# df.dropna(axis=1)\n"
   ]
  },
  {
   "cell_type": "markdown",
   "id": "791a4945",
   "metadata": {},
   "source": [
    "# ==========fillna()==========="
   ]
  },
  {
   "cell_type": "markdown",
   "id": "9d684fd9",
   "metadata": {},
   "source": [
    "# ==========Replace Empty Values==========="
   ]
  },
  {
   "cell_type": "markdown",
   "id": "c57ea904",
   "metadata": {},
   "source": [
    "### Another way of dealing with empty cells is to insert a new value instead.\n",
    "\n",
    "### This way you do not have to delete entire rows just because of some empty cells.\n",
    "\n",
    "### The fillna() method allows us to replace empty cells with a value:"
   ]
  },
  {
   "cell_type": "code",
   "execution_count": 32,
   "id": "07e41c92",
   "metadata": {},
   "outputs": [
    {
     "name": "stdout",
     "output_type": "stream",
     "text": [
      "  Unnamed: 0  col1  col2  col3  col4  col5  col6  col7  col8  col9 col10\n",
      "0       row1     1   NaN  21.0    31    41  51.0    61    71  81.0     A\n",
      "1       row2   200   NaN  22.0    32    42  52.0    62    72  82.0     B\n",
      "2       row3     3  13.0  23.0    33    43  53.0    63    73   NaN     C\n",
      "3       row4     0  14.0  24.0     0    44  54.0    64    74  84.0     D\n",
      "4       row5     5  15.0  25.0    35    45  55.0    65    75  85.0     E\n",
      "5       row6     6  16.0  26.0    36    46  56.0    66    76  86.0     F\n",
      "6       row7     7  17.0  27.0    37    47  57.0    67    77  87.0     G\n",
      "7       row8     8  18.0  28.0    38    48  58.0    68    78  88.0     H\n",
      "8       row9     9  19.0   NaN    39    49   NaN    69    79  89.0     I\n",
      "9      row10    10  20.0  30.0    40    50  60.0    70    80  90.0     J\n"
     ]
    }
   ],
   "source": [
    "d=pd.read_csv(\"demo.csv\",sep=\"\\t\")\n",
    "print(d)"
   ]
  },
  {
   "cell_type": "markdown",
   "id": "bcef2b80",
   "metadata": {},
   "source": [
    "### =======Replace Only For a Specified Columns========="
   ]
  },
  {
   "cell_type": "markdown",
   "id": "85214b03",
   "metadata": {},
   "source": [
    "### To only replace empty values for one column, specify the column name for the DataFrame:"
   ]
  },
  {
   "cell_type": "code",
   "execution_count": 34,
   "id": "66900c6a",
   "metadata": {},
   "outputs": [],
   "source": [
    "d['col6'].fillna(1000,inplace=True)"
   ]
  },
  {
   "cell_type": "code",
   "execution_count": 35,
   "id": "d60ccff2",
   "metadata": {},
   "outputs": [
    {
     "name": "stdout",
     "output_type": "stream",
     "text": [
      "  Unnamed: 0  col1  col2  col3  col4  col5    col6  col7  col8  col9 col10\n",
      "0       row1     1   NaN  21.0    31    41    51.0    61    71  81.0     A\n",
      "1       row2   200   NaN  22.0    32    42    52.0    62    72  82.0     B\n",
      "2       row3     3  13.0  23.0    33    43    53.0    63    73   NaN     C\n",
      "3       row4     0  14.0  24.0     0    44    54.0    64    74  84.0     D\n",
      "4       row5     5  15.0  25.0    35    45    55.0    65    75  85.0     E\n",
      "5       row6     6  16.0  26.0    36    46    56.0    66    76  86.0     F\n",
      "6       row7     7  17.0  27.0    37    47    57.0    67    77  87.0     G\n",
      "7       row8     8  18.0  28.0    38    48    58.0    68    78  88.0     H\n",
      "8       row9     9  19.0   NaN    39    49  1000.0    69    79  89.0     I\n",
      "9      row10    10  20.0  30.0    40    50    60.0    70    80  90.0     J\n"
     ]
    }
   ],
   "source": [
    "print(d)  #column 6's NAN value has been changed with 1000"
   ]
  },
  {
   "cell_type": "markdown",
   "id": "f541042f",
   "metadata": {},
   "source": [
    "# ======Replaces all empty cells in the whole Data Frame====="
   ]
  },
  {
   "cell_type": "markdown",
   "id": "a19fea22",
   "metadata": {},
   "source": [
    "### Replace NULL values with the number 2000 :"
   ]
  },
  {
   "cell_type": "code",
   "execution_count": 36,
   "id": "b6fd191f",
   "metadata": {},
   "outputs": [],
   "source": [
    "d.fillna(2000,inplace=True)"
   ]
  },
  {
   "cell_type": "code",
   "execution_count": 37,
   "id": "630028b7",
   "metadata": {},
   "outputs": [
    {
     "name": "stdout",
     "output_type": "stream",
     "text": [
      "  Unnamed: 0  col1    col2    col3  col4  col5    col6  col7  col8    col9  \\\n",
      "0       row1     1  2000.0    21.0    31    41    51.0    61    71    81.0   \n",
      "1       row2   200  2000.0    22.0    32    42    52.0    62    72    82.0   \n",
      "2       row3     3    13.0    23.0    33    43    53.0    63    73  2000.0   \n",
      "3       row4     0    14.0    24.0     0    44    54.0    64    74    84.0   \n",
      "4       row5     5    15.0    25.0    35    45    55.0    65    75    85.0   \n",
      "5       row6     6    16.0    26.0    36    46    56.0    66    76    86.0   \n",
      "6       row7     7    17.0    27.0    37    47    57.0    67    77    87.0   \n",
      "7       row8     8    18.0    28.0    38    48    58.0    68    78    88.0   \n",
      "8       row9     9    19.0  2000.0    39    49  1000.0    69    79    89.0   \n",
      "9      row10    10    20.0    30.0    40    50    60.0    70    80    90.0   \n",
      "\n",
      "  col10  \n",
      "0     A  \n",
      "1     B  \n",
      "2     C  \n",
      "3     D  \n",
      "4     E  \n",
      "5     F  \n",
      "6     G  \n",
      "7     H  \n",
      "8     I  \n",
      "9     J  \n"
     ]
    }
   ],
   "source": [
    "print(d)   #here all null has been changed to 2000"
   ]
  },
  {
   "cell_type": "markdown",
   "id": "4cbc36ac",
   "metadata": {},
   "source": [
    "# ====Replace Using Mean, Median, or Mode====\n",
    "\n",
    "### A common way to replace empty cells, is to calculate the mean, median or mode value of the column.\n",
    "\n",
    "### Pandas uses the mean() median() and mode() methods to calculate the respective values for a specified column:"
   ]
  },
  {
   "cell_type": "markdown",
   "id": "615ab51f",
   "metadata": {},
   "source": [
    "# Mean = the average value (the sum of all values divided by number of values)."
   ]
  },
  {
   "cell_type": "markdown",
   "id": "6dcdfce5",
   "metadata": {},
   "source": [
    "# Median = the value in the middle, after you have sorted all values ascending."
   ]
  },
  {
   "cell_type": "markdown",
   "id": "19434ccf",
   "metadata": {},
   "source": [
    "# Mode = the value that appears most frequently."
   ]
  },
  {
   "cell_type": "code",
   "execution_count": 40,
   "id": "0879ab0d",
   "metadata": {},
   "outputs": [
    {
     "name": "stdout",
     "output_type": "stream",
     "text": [
      "  Unnamed: 0  col1  col2  col3  col4  col5  col6  col7  col8  col9 col10\n",
      "0       row1     1   NaN  21.0    31    41  51.0    61    71  81.0     A\n",
      "1       row2   200   NaN  22.0    32    42  52.0    62    72  82.0     B\n",
      "2       row3     3  13.0  23.0    33    43  53.0    63    73   NaN     C\n",
      "3       row4     0  14.0  24.0     0    44  54.0    64    74  84.0     D\n",
      "4       row5     5  15.0  25.0    35    45  55.0    65    75  85.0     E\n",
      "5       row6     6  16.0  26.0    36    46  56.0    66    76  86.0     F\n",
      "6       row7     7  17.0  27.0    37    47  57.0    67    77  87.0     G\n",
      "7       row8     8  18.0  28.0    38    48  58.0    68    78  88.0     H\n",
      "8       row9     9  19.0   NaN    39    49   NaN    69    79  89.0     I\n",
      "9      row10    10  20.0  30.0    40    50  60.0    70    80  90.0     J \n",
      " \n",
      "\n",
      "  Unnamed: 0  col1  col2  col3  col4  col5  col6  col7  col8  col9 col10\n",
      "0       row1     1  16.5  21.0    31    41  51.0    61    71  81.0     A\n",
      "1       row2   200  16.5  22.0    32    42  52.0    62    72  82.0     B\n",
      "2       row3     3  13.0  23.0    33    43  53.0    63    73   NaN     C\n",
      "3       row4     0  14.0  24.0     0    44  54.0    64    74  84.0     D\n",
      "4       row5     5  15.0  25.0    35    45  55.0    65    75  85.0     E\n",
      "5       row6     6  16.0  26.0    36    46  56.0    66    76  86.0     F\n",
      "6       row7     7  17.0  27.0    37    47  57.0    67    77  87.0     G\n",
      "7       row8     8  18.0  28.0    38    48  58.0    68    78  88.0     H\n",
      "8       row9     9  19.0   NaN    39    49   NaN    69    79  89.0     I\n",
      "9      row10    10  20.0  30.0    40    50  60.0    70    80  90.0     J \n",
      " \n",
      "\n",
      "16.5\n"
     ]
    }
   ],
   "source": [
    "#  Calculate the MEAN, and replace any empty values with it:\n",
    "\n",
    "\n",
    "df=d=pd.read_csv(\"demo.csv\",sep=\"\\t\")\n",
    "print(df,\"\\n\",\"\\n\")\n",
    "\n",
    "x = df[\"col2\"].mean()\n",
    "\n",
    "df[\"col2\"].fillna(x, inplace = True) #nan value has been replaced with mean of column2 i.e 16.5\n",
    "\n",
    "print(df,\"\\n\",\"\\n\")\n",
    "\n",
    "print(x)"
   ]
  },
  {
   "cell_type": "code",
   "execution_count": 42,
   "id": "caa40f90",
   "metadata": {},
   "outputs": [
    {
     "name": "stdout",
     "output_type": "stream",
     "text": [
      "  Unnamed: 0  col1  col2  col3  col4  col5  col6  col7  col8  col9 col10\n",
      "0       row1     1   NaN  21.0    31    41  51.0    61    71  81.0     A\n",
      "1       row2   200   NaN  22.0    32    42  52.0    62    72  82.0     B\n",
      "2       row3     3  13.0  23.0    33    43  53.0    63    73   NaN     C\n",
      "3       row4     0  14.0  24.0     0    44  54.0    64    74  84.0     D\n",
      "4       row5     5  15.0  25.0    35    45  55.0    65    75  85.0     E\n",
      "5       row6     6  16.0  26.0    36    46  56.0    66    76  86.0     F\n",
      "6       row7     7  17.0  27.0    37    47  57.0    67    77  87.0     G\n",
      "7       row8     8  18.0  28.0    38    48  58.0    68    78  88.0     H\n",
      "8       row9     9  19.0   NaN    39    49   NaN    69    79  89.0     I\n",
      "9      row10    10  20.0  30.0    40    50  60.0    70    80  90.0     J \n",
      " \n",
      "\n",
      "25.0 \n",
      " \n",
      "\n",
      "  Unnamed: 0  col1  col2  col3  col4  col5  col6  col7  col8  col9 col10\n",
      "0       row1     1   NaN  21.0    31    41  51.0    61    71  81.0     A\n",
      "1       row2   200   NaN  22.0    32    42  52.0    62    72  82.0     B\n",
      "2       row3     3  13.0  23.0    33    43  53.0    63    73   NaN     C\n",
      "3       row4     0  14.0  24.0     0    44  54.0    64    74  84.0     D\n",
      "4       row5     5  15.0  25.0    35    45  55.0    65    75  85.0     E\n",
      "5       row6     6  16.0  26.0    36    46  56.0    66    76  86.0     F\n",
      "6       row7     7  17.0  27.0    37    47  57.0    67    77  87.0     G\n",
      "7       row8     8  18.0  28.0    38    48  58.0    68    78  88.0     H\n",
      "8       row9     9  19.0  25.0    39    49   NaN    69    79  89.0     I\n",
      "9      row10    10  20.0  30.0    40    50  60.0    70    80  90.0     J \n",
      " \n",
      "\n"
     ]
    }
   ],
   "source": [
    "# Calculate the MEDIAN, and replace any empty values with it:\n",
    "\n",
    "df = pd.read_csv(\"demo.csv\",sep=\"\\t\")\n",
    "\n",
    "print(df,\"\\n\",\"\\n\")\n",
    "\n",
    "x = df[\"col3\"].median()\n",
    "\n",
    "df[\"col3\"].fillna(x, inplace = True)\n",
    "\n",
    "\n",
    "print(x,\"\\n\",\"\\n\")\n",
    "print(df,\"\\n\",\"\\n\")"
   ]
  },
  {
   "cell_type": "code",
   "execution_count": 43,
   "id": "6db98f00",
   "metadata": {
    "scrolled": true
   },
   "outputs": [
    {
     "name": "stdout",
     "output_type": "stream",
     "text": [
      "  Unnamed: 0  col1  col2  col3  col4  col5  col6  col7  col8  col9 col10\n",
      "0       row1     1   NaN  21.0    31    41  51.0    61    71  81.0     A\n",
      "1       row2   200   NaN  22.0    32    42  52.0    62    72  82.0     B\n",
      "2       row3     3  13.0  23.0    33    43  53.0    63    73   NaN     C\n",
      "3       row4     0  14.0  24.0     0    44  54.0    64    74  84.0     D\n",
      "4       row5     5  15.0  25.0    35    45  55.0    65    75  85.0     E\n",
      "5       row6     6  16.0  26.0    36    46  56.0    66    76  86.0     F\n",
      "6       row7     7  17.0  27.0    37    47  57.0    67    77  87.0     G\n",
      "7       row8     8  18.0  28.0    38    48  58.0    68    78  88.0     H\n",
      "8       row9     9  19.0   NaN    39    49   NaN    69    79  89.0     I\n",
      "9      row10    10  20.0  30.0    40    50  60.0    70    80  90.0     J \n",
      " \n",
      "\n",
      "51.0 \n",
      " \n",
      "\n",
      "  Unnamed: 0  col1  col2  col3  col4  col5  col6  col7  col8  col9 col10\n",
      "0       row1     1   NaN  21.0    31    41  51.0    61    71  81.0     A\n",
      "1       row2   200   NaN  22.0    32    42  52.0    62    72  82.0     B\n",
      "2       row3     3  13.0  23.0    33    43  53.0    63    73   NaN     C\n",
      "3       row4     0  14.0  24.0     0    44  54.0    64    74  84.0     D\n",
      "4       row5     5  15.0  25.0    35    45  55.0    65    75  85.0     E\n",
      "5       row6     6  16.0  26.0    36    46  56.0    66    76  86.0     F\n",
      "6       row7     7  17.0  27.0    37    47  57.0    67    77  87.0     G\n",
      "7       row8     8  18.0  28.0    38    48  58.0    68    78  88.0     H\n",
      "8       row9     9  19.0   NaN    39    49  51.0    69    79  89.0     I\n",
      "9      row10    10  20.0  30.0    40    50  60.0    70    80  90.0     J \n",
      " \n",
      "\n"
     ]
    }
   ],
   "source": [
    "# Calculate the MODE, and replace any empty values with it:\n",
    "\n",
    "\n",
    "df = pd.read_csv(\"demo.csv\",sep=\"\\t\")\n",
    "\n",
    "print(df,\"\\n\",\"\\n\")\n",
    "\n",
    "x = df[\"col6\"].mode()[0]\n",
    "\n",
    "df[\"col6\"].fillna(x, inplace = True)\n",
    "\n",
    "print(x,\"\\n\",\"\\n\")\n",
    "print(df,\"\\n\",\"\\n\")"
   ]
  },
  {
   "cell_type": "markdown",
   "id": "0564fd26",
   "metadata": {},
   "source": [
    "# =====Pandas - Cleaning Data of Wrong Format====="
   ]
  },
  {
   "cell_type": "markdown",
   "id": "41ab5a57",
   "metadata": {},
   "source": [
    "###  ===Data of Wrong Format===\n",
    "\n",
    "### Cells with data of wrong format can make it difficult, or even impossible, to analyze data.\n",
    "\n",
    "### To fix it, you have two options: remove the rows, or convert all cells in the columns into the same format."
   ]
  },
  {
   "cell_type": "markdown",
   "id": "0c6ab66a",
   "metadata": {},
   "source": [
    "# Convert Into a Correct Format"
   ]
  },
  {
   "cell_type": "markdown",
   "id": "c8e8a596",
   "metadata": {},
   "source": [
    "# ====Pandas has a to_datetime() method ===="
   ]
  },
  {
   "cell_type": "code",
   "execution_count": 46,
   "id": "b4303001",
   "metadata": {},
   "outputs": [
    {
     "name": "stdout",
     "output_type": "stream",
     "text": [
      "    Duration          Date  Pulse  Maxpulse  Calories\n",
      "0         60  '2020/12/01'    110       130     409.1\n",
      "1         60  '2020/12/02'    117       145     479.0\n",
      "2         60  '2020/12/03'    103       135     340.0\n",
      "3         45  '2020/12/04'    109       175     282.4\n",
      "4         45  '2020/12/05'    117       148     406.0\n",
      "5         60  '2020/12/06'    102       127     300.0\n",
      "6         60  '2020/12/07'    110       136     374.0\n",
      "7        450  '2020/12/08'    104       134     253.3\n",
      "8         30  '2020/12/09'    109       133     195.1\n",
      "9         60  '2020/12/10'     98       124     269.0\n",
      "10        60  '2020/12/11'    103       147     329.3\n",
      "11        60  '2020/12/12'    100       120     250.7\n",
      "12        60  '2020/12/12'    100       120     250.7\n",
      "13        60  '2020/12/13'    106       128     345.3\n",
      "14        60  '2020/12/14'    104       132     379.3\n",
      "15        60  '2020/12/15'     98       123     275.0\n",
      "16        60  '2020/12/16'     98       120     215.2\n",
      "17        60  '2020/12/17'    100       120     300.0\n",
      "18        45  '2020/12/18'     90       112       NaN\n",
      "19        60  '2020/12/19'    103       123     323.0\n",
      "20        45  '2020/12/20'     97       125     243.0\n",
      "21        60  '2020/12/21'    108       131     364.2\n",
      "22        45           NaN    100       119     282.0\n",
      "23        60  '2020/12/23'    130       101     300.0\n",
      "24        45  '2020/12/24'    105       132     246.0\n",
      "25        60  '2020/12/25'    102       126     334.5\n",
      "26        60      20201226    100       120     250.0\n",
      "27        60  '2020/12/27'     92       118     241.0\n",
      "28        60  '2020/12/28'    103       132       NaN\n",
      "29        60  '2020/12/29'    100       132     280.0\n",
      "30        60  '2020/12/30'    102       129     380.3\n",
      "31        60  '2020/12/31'     92       115     243.0 \n",
      " \n",
      "\n",
      "    Duration       Date  Pulse  Maxpulse  Calories\n",
      "0         60 2020-12-01    110       130     409.1\n",
      "1         60 2020-12-02    117       145     479.0\n",
      "2         60 2020-12-03    103       135     340.0\n",
      "3         45 2020-12-04    109       175     282.4\n",
      "4         45 2020-12-05    117       148     406.0\n",
      "5         60 2020-12-06    102       127     300.0\n",
      "6         60 2020-12-07    110       136     374.0\n",
      "7        450 2020-12-08    104       134     253.3\n",
      "8         30 2020-12-09    109       133     195.1\n",
      "9         60 2020-12-10     98       124     269.0\n",
      "10        60 2020-12-11    103       147     329.3\n",
      "11        60 2020-12-12    100       120     250.7\n",
      "12        60 2020-12-12    100       120     250.7\n",
      "13        60 2020-12-13    106       128     345.3\n",
      "14        60 2020-12-14    104       132     379.3\n",
      "15        60 2020-12-15     98       123     275.0\n",
      "16        60 2020-12-16     98       120     215.2\n",
      "17        60 2020-12-17    100       120     300.0\n",
      "18        45 2020-12-18     90       112       NaN\n",
      "19        60 2020-12-19    103       123     323.0\n",
      "20        45 2020-12-20     97       125     243.0\n",
      "21        60 2020-12-21    108       131     364.2\n",
      "22        45        NaT    100       119     282.0\n",
      "23        60 2020-12-23    130       101     300.0\n",
      "24        45 2020-12-24    105       132     246.0\n",
      "25        60 2020-12-25    102       126     334.5\n",
      "26        60 2020-12-26    100       120     250.0\n",
      "27        60 2020-12-27     92       118     241.0\n",
      "28        60 2020-12-28    103       132       NaN\n",
      "29        60 2020-12-29    100       132     280.0\n",
      "30        60 2020-12-30    102       129     380.3\n",
      "31        60 2020-12-31     92       115     243.0\n"
     ]
    }
   ],
   "source": [
    "\n",
    "\n",
    "df = pd.read_csv('dirtydata.csv')\n",
    "\n",
    "print(df,'\\n','\\n')\n",
    "\n",
    "df['Date'] = pd.to_datetime(df['Date'])\n",
    "\n",
    "print(df)\n"
   ]
  },
  {
   "cell_type": "markdown",
   "id": "65dbe522",
   "metadata": {},
   "source": [
    "# ==Removing Rows==\n",
    "\n",
    "### The result from the converting in the example above gave us a NaT value, \n",
    "### which can be handled as a NULL value, and we can remove the row by using the dropna() method."
   ]
  },
  {
   "cell_type": "code",
   "execution_count": 47,
   "id": "0d942ec2",
   "metadata": {},
   "outputs": [
    {
     "name": "stdout",
     "output_type": "stream",
     "text": [
      "    Duration       Date  Pulse  Maxpulse  Calories\n",
      "0         60 2020-12-01    110       130     409.1\n",
      "1         60 2020-12-02    117       145     479.0\n",
      "2         60 2020-12-03    103       135     340.0\n",
      "3         45 2020-12-04    109       175     282.4\n",
      "4         45 2020-12-05    117       148     406.0\n",
      "5         60 2020-12-06    102       127     300.0\n",
      "6         60 2020-12-07    110       136     374.0\n",
      "7        450 2020-12-08    104       134     253.3\n",
      "8         30 2020-12-09    109       133     195.1\n",
      "9         60 2020-12-10     98       124     269.0\n",
      "10        60 2020-12-11    103       147     329.3\n",
      "11        60 2020-12-12    100       120     250.7\n",
      "12        60 2020-12-12    100       120     250.7\n",
      "13        60 2020-12-13    106       128     345.3\n",
      "14        60 2020-12-14    104       132     379.3\n",
      "15        60 2020-12-15     98       123     275.0\n",
      "16        60 2020-12-16     98       120     215.2\n",
      "17        60 2020-12-17    100       120     300.0\n",
      "19        60 2020-12-19    103       123     323.0\n",
      "20        45 2020-12-20     97       125     243.0\n",
      "21        60 2020-12-21    108       131     364.2\n",
      "23        60 2020-12-23    130       101     300.0\n",
      "24        45 2020-12-24    105       132     246.0\n",
      "25        60 2020-12-25    102       126     334.5\n",
      "26        60 2020-12-26    100       120     250.0\n",
      "27        60 2020-12-27     92       118     241.0\n",
      "29        60 2020-12-29    100       132     280.0\n",
      "30        60 2020-12-30    102       129     380.3\n",
      "31        60 2020-12-31     92       115     243.0\n"
     ]
    }
   ],
   "source": [
    "df.dropna(inplace=True)\n",
    "print(df)"
   ]
  },
  {
   "cell_type": "markdown",
   "id": "9f5df118",
   "metadata": {},
   "source": [
    "# Pandas - Fixing Wrong Data"
   ]
  },
  {
   "cell_type": "markdown",
   "id": "8adf11a5",
   "metadata": {},
   "source": [
    "# Wrong Data\n",
    "\n",
    "### \"Wrong data\" does not have to be \"empty cells\" or \"wrong format\", it can just be wrong, like if someone registered \"199\" instead of \"1.99\".\n",
    "\n",
    "### Sometimes you can spot wrong data by looking at the data set, because you have an expectation of what it should be.\n",
    "\n",
    "### If you take a look at our data set, you can see that in row 7, the duration is 450, but for all the other rows the duration is between 30 and 60.\n",
    "\n",
    "### It doesn't have to be wrong, but taking in consideration that this is the data set of someone's workout sessions, we conclude with the fact that this person did not work out in 450 minutes."
   ]
  },
  {
   "cell_type": "markdown",
   "id": "e74e6237",
   "metadata": {},
   "source": [
    "# ======Replacing Values======\n",
    "\n",
    "### One way to fix wrong values is to replace them with something else."
   ]
  },
  {
   "cell_type": "code",
   "execution_count": 52,
   "id": "802fcec4",
   "metadata": {},
   "outputs": [
    {
     "name": "stdout",
     "output_type": "stream",
     "text": [
      "    Duration       Date  Pulse  Maxpulse  Calories  (7, Duration)\n",
      "0         60 2020-12-01    110       130     409.1             50\n",
      "1         60 2020-12-02    117       145     479.0             50\n",
      "2         60 2020-12-03    103       135     340.0             50\n",
      "3         45 2020-12-04    109       175     282.4             50\n",
      "4         45 2020-12-05    117       148     406.0             50\n",
      "5         60 2020-12-06    102       127     300.0             50\n",
      "6         60 2020-12-07    110       136     374.0             50\n",
      "7         50 2020-12-08    104       134     253.3             50\n",
      "8         30 2020-12-09    109       133     195.1             50\n",
      "9         60 2020-12-10     98       124     269.0             50\n",
      "10        60 2020-12-11    103       147     329.3             50\n",
      "11        60 2020-12-12    100       120     250.7             50\n",
      "12        60 2020-12-12    100       120     250.7             50\n",
      "13        60 2020-12-13    106       128     345.3             50\n",
      "14        60 2020-12-14    104       132     379.3             50\n",
      "15        60 2020-12-15     98       123     275.0             50\n",
      "16        60 2020-12-16     98       120     215.2             50\n",
      "17        60 2020-12-17    100       120     300.0             50\n",
      "19        60 2020-12-19    103       123     323.0             50\n",
      "20        45 2020-12-20     97       125     243.0             50\n",
      "21        60 2020-12-21    108       131     364.2             50\n",
      "23        60 2020-12-23    130       101     300.0             50\n",
      "24        45 2020-12-24    105       132     246.0             50\n",
      "25        60 2020-12-25    102       126     334.5             50\n",
      "26        60 2020-12-26    100       120     250.0             50\n",
      "27        60 2020-12-27     92       118     241.0             50\n",
      "29        60 2020-12-29    100       132     280.0             50\n",
      "30        60 2020-12-30    102       129     380.3             50\n",
      "31        60 2020-12-31     92       115     243.0             50 \n",
      " \n",
      "\n",
      "    Duration       Date  Pulse  Maxpulse  Calories  (7, Duration)\n",
      "0         60 2020-12-01    110       130     409.1             50\n",
      "1         60 2020-12-02    117       145     479.0             50\n",
      "2         60 2020-12-03    103       135     340.0             50\n",
      "3         45 2020-12-04    109       175     282.4             50\n",
      "4         45 2020-12-05    117       148     406.0             50\n",
      "5         60 2020-12-06    102       127     300.0             50\n",
      "6         60 2020-12-07    110       136     374.0             50\n",
      "7         50 2020-12-08    104       134     253.3             50\n",
      "8         30 2020-12-09    109       133     195.1             50\n",
      "9         60 2020-12-10     98       124     269.0             50\n",
      "10        60 2020-12-11    103       147     329.3             50\n",
      "11        60 2020-12-12    100       120     250.7             50\n",
      "12        60 2020-12-12    100       120     250.7             50\n",
      "13        60 2020-12-13    106       128     345.3             50\n",
      "14        60 2020-12-14    104       132     379.3             50\n",
      "15        60 2020-12-15     98       123     275.0             50\n",
      "16        60 2020-12-16     98       120     215.2             50\n",
      "17        60 2020-12-17    100       120     300.0             50\n",
      "19        60 2020-12-19    103       123     323.0             50\n",
      "20        45 2020-12-20     97       125     243.0             50\n",
      "21        60 2020-12-21    108       131     364.2             50\n",
      "23        60 2020-12-23    130       101     300.0             50\n",
      "24        45 2020-12-24    105       132     246.0             50\n",
      "25        60 2020-12-25    102       126     334.5             50\n",
      "26        60 2020-12-26    100       120     250.0             50\n",
      "27        60 2020-12-27     92       118     241.0             50\n",
      "29        60 2020-12-29    100       132     280.0             50\n",
      "30        60 2020-12-30    102       129     380.3             50\n",
      "31        60 2020-12-31     92       115     243.0             50 \n",
      " \n",
      "\n"
     ]
    }
   ],
   "source": [
    "\n",
    "\n",
    "df.loc[7,\"Duration\"]=50\n",
    "\n",
    "print(df,'\\n','\\n')"
   ]
  },
  {
   "cell_type": "markdown",
   "id": "048e04d1",
   "metadata": {},
   "source": [
    "For small data sets you might be able to replace the wrong data one by one, but not for big data sets.\n",
    "\n",
    "To replace wrong data for larger data sets you can create some rules,\n",
    "e.g. set some boundaries for legal values, and replace any values that are outside of the boundaries."
   ]
  },
  {
   "cell_type": "code",
   "execution_count": 55,
   "id": "dcfc8d4a",
   "metadata": {},
   "outputs": [
    {
     "name": "stdout",
     "output_type": "stream",
     "text": [
      "    Duration       Date  Pulse  Maxpulse  Calories  (7, Duration)\n",
      "0         60 2020-12-01    110       130     409.1             50\n",
      "1         60 2020-12-02    117       145     479.0             50\n",
      "2         60 2020-12-03    103       135     340.0             50\n",
      "3         45 2020-12-04    109       175     282.4             50\n",
      "4         45 2020-12-05    117       148     406.0             50\n",
      "5         60 2020-12-06    102       127     300.0             50\n",
      "6         60 2020-12-07    110       136     374.0             50\n",
      "7         50 2020-12-08    104       134     253.3             50\n",
      "8         30 2020-12-09    109       133     195.1             50\n",
      "9         60 2020-12-10     98       124     269.0             50\n",
      "10        60 2020-12-11    103       147     329.3             50\n",
      "11        60 2020-12-12    100       120     250.7             50\n",
      "12        60 2020-12-12    100       120     250.7             50\n",
      "13        60 2020-12-13    106       128     345.3             50\n",
      "14        60 2020-12-14    104       132     379.3             50\n",
      "15        60 2020-12-15     98       123     275.0             50\n",
      "16        60 2020-12-16     98       120     215.2             50\n",
      "17        60 2020-12-17    100       120     300.0             50\n",
      "19        60 2020-12-19    103       123     323.0             50\n",
      "20        45 2020-12-20     97       125     243.0             50\n",
      "21        60 2020-12-21    108       131     364.2             50\n",
      "23        60 2020-12-23    130       101     300.0             50\n",
      "24        45 2020-12-24    105       132     246.0             50\n",
      "25        60 2020-12-25    102       126     334.5             50\n",
      "26        60 2020-12-26    100       120     250.0             50\n",
      "27        60 2020-12-27     92       118     241.0             50\n",
      "29        60 2020-12-29    100       132     280.0             50\n",
      "30        60 2020-12-30    102       129     380.3             50\n",
      "31        60 2020-12-31     92       115     243.0             50\n"
     ]
    }
   ],
   "source": [
    "print(df)"
   ]
  },
  {
   "cell_type": "code",
   "execution_count": 56,
   "id": "f62bc1bf",
   "metadata": {},
   "outputs": [
    {
     "name": "stdout",
     "output_type": "stream",
     "text": [
      "Int64Index([ 0,  1,  2,  3,  4,  5,  6,  7,  8,  9, 10, 11, 12, 13, 14, 15, 16,\n",
      "            17, 19, 20, 21, 23, 24, 25, 26, 27, 29, 30, 31],\n",
      "           dtype='int64')\n"
     ]
    }
   ],
   "source": [
    "print(df.index)"
   ]
  },
  {
   "cell_type": "code",
   "execution_count": 57,
   "id": "1c58eacd",
   "metadata": {},
   "outputs": [
    {
     "name": "stdout",
     "output_type": "stream",
     "text": [
      "    Duration       Date  Pulse  Maxpulse  Calories  (7, Duration)\n",
      "0        100 2020-12-01    110       130     409.1             50\n",
      "1        100 2020-12-02    117       145     479.0             50\n",
      "2        100 2020-12-03    103       135     340.0             50\n",
      "3         45 2020-12-04    109       175     282.4             50\n",
      "4         45 2020-12-05    117       148     406.0             50\n",
      "5        100 2020-12-06    102       127     300.0             50\n",
      "6        100 2020-12-07    110       136     374.0             50\n",
      "7         50 2020-12-08    104       134     253.3             50\n",
      "8         30 2020-12-09    109       133     195.1             50\n",
      "9        100 2020-12-10     98       124     269.0             50\n",
      "10       100 2020-12-11    103       147     329.3             50\n",
      "11       100 2020-12-12    100       120     250.7             50\n",
      "12       100 2020-12-12    100       120     250.7             50\n",
      "13       100 2020-12-13    106       128     345.3             50\n",
      "14       100 2020-12-14    104       132     379.3             50\n",
      "15       100 2020-12-15     98       123     275.0             50\n",
      "16       100 2020-12-16     98       120     215.2             50\n",
      "17       100 2020-12-17    100       120     300.0             50\n",
      "19       100 2020-12-19    103       123     323.0             50\n",
      "20        45 2020-12-20     97       125     243.0             50\n",
      "21       100 2020-12-21    108       131     364.2             50\n",
      "23       100 2020-12-23    130       101     300.0             50\n",
      "24        45 2020-12-24    105       132     246.0             50\n",
      "25       100 2020-12-25    102       126     334.5             50\n",
      "26       100 2020-12-26    100       120     250.0             50\n",
      "27       100 2020-12-27     92       118     241.0             50\n",
      "29       100 2020-12-29    100       132     280.0             50\n",
      "30       100 2020-12-30    102       129     380.3             50\n",
      "31       100 2020-12-31     92       115     243.0             50\n"
     ]
    }
   ],
   "source": [
    "for i in df.index:\n",
    "    if df.loc[i,\"Duration\"]>50:\n",
    "        df.loc[i,\"Duration\"]=100\n",
    "        \n",
    "print(df)\n",
    "        "
   ]
  },
  {
   "cell_type": "markdown",
   "id": "b006f774",
   "metadata": {},
   "source": [
    "# ====Removing Rows====\n",
    "\n",
    "\n",
    "### Another way of handling wrong data is to remove the rows that contains wrong data.\n",
    "\n",
    "### This way you do not have to find out what to replace them with, and there is a good chance you do not need them to do your analyses."
   ]
  },
  {
   "cell_type": "code",
   "execution_count": 61,
   "id": "5fd883ee",
   "metadata": {},
   "outputs": [
    {
     "name": "stdout",
     "output_type": "stream",
     "text": [
      "    Duration       Date  Pulse  Maxpulse  Calories  (7, Duration)\n",
      "0        100 2020-12-01    110       130     409.1             50\n",
      "1        100 2020-12-02    117       145     479.0             50\n",
      "2        100 2020-12-03    103       135     340.0             50\n",
      "5        100 2020-12-06    102       127     300.0             50\n",
      "6        100 2020-12-07    110       136     374.0             50\n",
      "7         50 2020-12-08    104       134     253.3             50\n",
      "9        100 2020-12-10     98       124     269.0             50\n",
      "10       100 2020-12-11    103       147     329.3             50\n",
      "11       100 2020-12-12    100       120     250.7             50\n",
      "12       100 2020-12-12    100       120     250.7             50\n",
      "13       100 2020-12-13    106       128     345.3             50\n",
      "14       100 2020-12-14    104       132     379.3             50\n",
      "15       100 2020-12-15     98       123     275.0             50\n",
      "16       100 2020-12-16     98       120     215.2             50\n",
      "17       100 2020-12-17    100       120     300.0             50\n",
      "19       100 2020-12-19    103       123     323.0             50\n",
      "21       100 2020-12-21    108       131     364.2             50\n",
      "23       100 2020-12-23    130       101     300.0             50\n",
      "25       100 2020-12-25    102       126     334.5             50\n",
      "26       100 2020-12-26    100       120     250.0             50\n",
      "27       100 2020-12-27     92       118     241.0             50\n",
      "29       100 2020-12-29    100       132     280.0             50\n",
      "30       100 2020-12-30    102       129     380.3             50\n",
      "31       100 2020-12-31     92       115     243.0             50\n"
     ]
    }
   ],
   "source": [
    "for i in df.index:\n",
    "    if df.loc[i,'Duration']<50:\n",
    "        df.drop(i,inplace = True)\n",
    "        \n",
    "        \n",
    "print(df)"
   ]
  },
  {
   "cell_type": "markdown",
   "id": "f1830b5c",
   "metadata": {},
   "source": [
    "# ==========duplicated() method ========"
   ]
  },
  {
   "cell_type": "markdown",
   "id": "e0cbd867",
   "metadata": {},
   "source": [
    "### Returns True for every row that is a duplicate, othwerwise False:"
   ]
  },
  {
   "cell_type": "markdown",
   "id": "8ee1cef0",
   "metadata": {},
   "source": [
    "# Pandas - Removing Duplicates"
   ]
  },
  {
   "cell_type": "markdown",
   "id": "415811da",
   "metadata": {},
   "source": [
    "# ==Discovering Duplicates==\n",
    "\n",
    "### Duplicate rows are rows that have been registered more than one time."
   ]
  },
  {
   "cell_type": "code",
   "execution_count": 66,
   "id": "d73a456c",
   "metadata": {},
   "outputs": [
    {
     "name": "stdout",
     "output_type": "stream",
     "text": [
      "    Duration          Date  Pulse  Maxpulse  Calories\n",
      "0         60  '2020/12/01'    110       130     409.1\n",
      "1         60  '2020/12/02'    117       145     479.0\n",
      "2         60  '2020/12/03'    103       135     340.0\n",
      "3         45  '2020/12/04'    109       175     282.4\n",
      "4         45  '2020/12/05'    117       148     406.0\n",
      "5         60  '2020/12/06'    102       127     300.0\n",
      "6         60  '2020/12/07'    110       136     374.0\n",
      "7        450  '2020/12/08'    104       134     253.3\n",
      "8         30  '2020/12/09'    109       133     195.1\n",
      "9         60  '2020/12/10'     98       124     269.0\n",
      "10        60  '2020/12/11'    103       147     329.3\n",
      "11        60  '2020/12/12'    100       120     250.7\n",
      "12        60  '2020/12/12'    100       120     250.7\n",
      "13        60  '2020/12/13'    106       128     345.3\n",
      "14        60  '2020/12/14'    104       132     379.3\n",
      "15        60  '2020/12/15'     98       123     275.0\n",
      "16        60  '2020/12/16'     98       120     215.2\n",
      "17        60  '2020/12/17'    100       120     300.0\n",
      "18        45  '2020/12/18'     90       112       NaN\n",
      "19        60  '2020/12/19'    103       123     323.0\n",
      "20        45  '2020/12/20'     97       125     243.0\n",
      "21        60  '2020/12/21'    108       131     364.2\n",
      "22        45           NaN    100       119     282.0\n",
      "23        60  '2020/12/23'    130       101     300.0\n",
      "24        45  '2020/12/24'    105       132     246.0\n",
      "25        60  '2020/12/25'    102       126     334.5\n",
      "26        60      20201226    100       120     250.0\n",
      "27        60  '2020/12/27'     92       118     241.0\n",
      "28        60  '2020/12/28'    103       132       NaN\n",
      "29        60  '2020/12/29'    100       132     280.0\n",
      "30        60  '2020/12/30'    102       129     380.3\n",
      "31        60  '2020/12/31'     92       115     243.0 \n",
      " \n",
      "\n"
     ]
    }
   ],
   "source": [
    "df = pd.read_csv('dirtydata.csv')\n",
    "\n",
    "print(df,'\\n','\\n')"
   ]
  },
  {
   "cell_type": "markdown",
   "id": "c9d400fd",
   "metadata": {},
   "source": [
    "By taking a look at our test data set, we can assume that row 11 and 12 are duplicates.\n",
    "\n",
    "To discover duplicates, we can use the duplicated() method.\n",
    "\n",
    "The duplicated() method returns a Boolean values for each row:"
   ]
  },
  {
   "cell_type": "code",
   "execution_count": 67,
   "id": "8bd85fb0",
   "metadata": {},
   "outputs": [
    {
     "name": "stdout",
     "output_type": "stream",
     "text": [
      "0     False\n",
      "1     False\n",
      "2     False\n",
      "3     False\n",
      "4     False\n",
      "5     False\n",
      "6     False\n",
      "7     False\n",
      "8     False\n",
      "9     False\n",
      "10    False\n",
      "11    False\n",
      "12     True\n",
      "13    False\n",
      "14    False\n",
      "15    False\n",
      "16    False\n",
      "17    False\n",
      "18    False\n",
      "19    False\n",
      "20    False\n",
      "21    False\n",
      "22    False\n",
      "23    False\n",
      "24    False\n",
      "25    False\n",
      "26    False\n",
      "27    False\n",
      "28    False\n",
      "29    False\n",
      "30    False\n",
      "31    False\n",
      "dtype: bool\n"
     ]
    }
   ],
   "source": [
    "print(df.duplicated())"
   ]
  },
  {
   "cell_type": "markdown",
   "id": "0617a06f",
   "metadata": {},
   "source": [
    "# ==================drop_duplicates() method =========="
   ]
  },
  {
   "cell_type": "markdown",
   "id": "9e808f59",
   "metadata": {},
   "source": [
    "# ======Removing Duplicates======\n",
    "\n",
    "### To remove duplicates, use the drop_duplicates() method."
   ]
  },
  {
   "cell_type": "code",
   "execution_count": 68,
   "id": "a752b6cf",
   "metadata": {},
   "outputs": [
    {
     "name": "stdout",
     "output_type": "stream",
     "text": [
      "    Duration          Date  Pulse  Maxpulse  Calories\n",
      "0         60  '2020/12/01'    110       130     409.1\n",
      "1         60  '2020/12/02'    117       145     479.0\n",
      "2         60  '2020/12/03'    103       135     340.0\n",
      "3         45  '2020/12/04'    109       175     282.4\n",
      "4         45  '2020/12/05'    117       148     406.0\n",
      "5         60  '2020/12/06'    102       127     300.0\n",
      "6         60  '2020/12/07'    110       136     374.0\n",
      "7        450  '2020/12/08'    104       134     253.3\n",
      "8         30  '2020/12/09'    109       133     195.1\n",
      "9         60  '2020/12/10'     98       124     269.0\n",
      "10        60  '2020/12/11'    103       147     329.3\n",
      "11        60  '2020/12/12'    100       120     250.7\n",
      "13        60  '2020/12/13'    106       128     345.3\n",
      "14        60  '2020/12/14'    104       132     379.3\n",
      "15        60  '2020/12/15'     98       123     275.0\n",
      "16        60  '2020/12/16'     98       120     215.2\n",
      "17        60  '2020/12/17'    100       120     300.0\n",
      "18        45  '2020/12/18'     90       112       NaN\n",
      "19        60  '2020/12/19'    103       123     323.0\n",
      "20        45  '2020/12/20'     97       125     243.0\n",
      "21        60  '2020/12/21'    108       131     364.2\n",
      "22        45           NaN    100       119     282.0\n",
      "23        60  '2020/12/23'    130       101     300.0\n",
      "24        45  '2020/12/24'    105       132     246.0\n",
      "25        60  '2020/12/25'    102       126     334.5\n",
      "26        60      20201226    100       120     250.0\n",
      "27        60  '2020/12/27'     92       118     241.0\n",
      "28        60  '2020/12/28'    103       132       NaN\n",
      "29        60  '2020/12/29'    100       132     280.0\n",
      "30        60  '2020/12/30'    102       129     380.3\n",
      "31        60  '2020/12/31'     92       115     243.0\n"
     ]
    }
   ],
   "source": [
    "# Remove all duplicates:\n",
    "\n",
    "df.drop_duplicates(inplace = True)\n",
    "\n",
    "print(df) #12 row deleted"
   ]
  },
  {
   "cell_type": "markdown",
   "id": "08a9effc",
   "metadata": {},
   "source": [
    "Remember: The (inplace = True) will make sure that the method does NOT return a new DataFrame, but it will remove all duplicates from the original DataFrame."
   ]
  },
  {
   "cell_type": "markdown",
   "id": "29f2de9d",
   "metadata": {},
   "source": [
    "# ====inplace====\n",
    "\n",
    "## amra jai e kori dataframe fillna,dropna,drop_duplicate....ai gulor result show korbe kintu original dataframe e change hobe na just oi kaj gulo kore print korbe....original dataframe e change korte gyle hoy onno akta dataframe create kore result ta store kore rakte hobe(ex:df2=df.drop_duplicates) kintu arom korte gyle onek dataframe create kora hoye jabe tai amra (inplace=True) use kore korbo taholai original dataframe e change hobe noy to hobe na"
   ]
  },
  {
   "cell_type": "code",
   "execution_count": 3,
   "id": "e4943522",
   "metadata": {},
   "outputs": [
    {
     "data": {
      "text/html": [
       "<div>\n",
       "<style scoped>\n",
       "    .dataframe tbody tr th:only-of-type {\n",
       "        vertical-align: middle;\n",
       "    }\n",
       "\n",
       "    .dataframe tbody tr th {\n",
       "        vertical-align: top;\n",
       "    }\n",
       "\n",
       "    .dataframe thead th {\n",
       "        text-align: right;\n",
       "    }\n",
       "</style>\n",
       "<table border=\"1\" class=\"dataframe\">\n",
       "  <thead>\n",
       "    <tr style=\"text-align: right;\">\n",
       "      <th></th>\n",
       "      <th>Duration</th>\n",
       "      <th>Date</th>\n",
       "      <th>Pulse</th>\n",
       "      <th>Maxpulse</th>\n",
       "      <th>Calories</th>\n",
       "    </tr>\n",
       "  </thead>\n",
       "  <tbody>\n",
       "    <tr>\n",
       "      <th>0</th>\n",
       "      <td>60</td>\n",
       "      <td>'2020/12/01'</td>\n",
       "      <td>110</td>\n",
       "      <td>130</td>\n",
       "      <td>409.1</td>\n",
       "    </tr>\n",
       "    <tr>\n",
       "      <th>1</th>\n",
       "      <td>60</td>\n",
       "      <td>'2020/12/02'</td>\n",
       "      <td>117</td>\n",
       "      <td>145</td>\n",
       "      <td>479.0</td>\n",
       "    </tr>\n",
       "    <tr>\n",
       "      <th>2</th>\n",
       "      <td>60</td>\n",
       "      <td>'2020/12/03'</td>\n",
       "      <td>103</td>\n",
       "      <td>135</td>\n",
       "      <td>340.0</td>\n",
       "    </tr>\n",
       "    <tr>\n",
       "      <th>3</th>\n",
       "      <td>45</td>\n",
       "      <td>'2020/12/04'</td>\n",
       "      <td>109</td>\n",
       "      <td>175</td>\n",
       "      <td>282.4</td>\n",
       "    </tr>\n",
       "    <tr>\n",
       "      <th>4</th>\n",
       "      <td>45</td>\n",
       "      <td>'2020/12/05'</td>\n",
       "      <td>117</td>\n",
       "      <td>148</td>\n",
       "      <td>406.0</td>\n",
       "    </tr>\n",
       "  </tbody>\n",
       "</table>\n",
       "</div>"
      ],
      "text/plain": [
       "   Duration          Date  Pulse  Maxpulse  Calories\n",
       "0        60  '2020/12/01'    110       130     409.1\n",
       "1        60  '2020/12/02'    117       145     479.0\n",
       "2        60  '2020/12/03'    103       135     340.0\n",
       "3        45  '2020/12/04'    109       175     282.4\n",
       "4        45  '2020/12/05'    117       148     406.0"
      ]
     },
     "execution_count": 3,
     "metadata": {},
     "output_type": "execute_result"
    }
   ],
   "source": [
    "df = pd.read_csv('dirtydata.csv')\n",
    "\n",
    "df.head()"
   ]
  },
  {
   "cell_type": "code",
   "execution_count": 6,
   "id": "1fae49ee",
   "metadata": {},
   "outputs": [],
   "source": [
    "x=df[df['Duration']==60]"
   ]
  },
  {
   "cell_type": "code",
   "execution_count": 7,
   "id": "912386fa",
   "metadata": {},
   "outputs": [
    {
     "data": {
      "text/html": [
       "<div>\n",
       "<style scoped>\n",
       "    .dataframe tbody tr th:only-of-type {\n",
       "        vertical-align: middle;\n",
       "    }\n",
       "\n",
       "    .dataframe tbody tr th {\n",
       "        vertical-align: top;\n",
       "    }\n",
       "\n",
       "    .dataframe thead th {\n",
       "        text-align: right;\n",
       "    }\n",
       "</style>\n",
       "<table border=\"1\" class=\"dataframe\">\n",
       "  <thead>\n",
       "    <tr style=\"text-align: right;\">\n",
       "      <th></th>\n",
       "      <th>Duration</th>\n",
       "      <th>Date</th>\n",
       "      <th>Pulse</th>\n",
       "      <th>Maxpulse</th>\n",
       "      <th>Calories</th>\n",
       "    </tr>\n",
       "  </thead>\n",
       "  <tbody>\n",
       "    <tr>\n",
       "      <th>0</th>\n",
       "      <td>60</td>\n",
       "      <td>'2020/12/01'</td>\n",
       "      <td>110</td>\n",
       "      <td>130</td>\n",
       "      <td>409.1</td>\n",
       "    </tr>\n",
       "    <tr>\n",
       "      <th>1</th>\n",
       "      <td>60</td>\n",
       "      <td>'2020/12/02'</td>\n",
       "      <td>117</td>\n",
       "      <td>145</td>\n",
       "      <td>479.0</td>\n",
       "    </tr>\n",
       "    <tr>\n",
       "      <th>2</th>\n",
       "      <td>60</td>\n",
       "      <td>'2020/12/03'</td>\n",
       "      <td>103</td>\n",
       "      <td>135</td>\n",
       "      <td>340.0</td>\n",
       "    </tr>\n",
       "    <tr>\n",
       "      <th>5</th>\n",
       "      <td>60</td>\n",
       "      <td>'2020/12/06'</td>\n",
       "      <td>102</td>\n",
       "      <td>127</td>\n",
       "      <td>300.0</td>\n",
       "    </tr>\n",
       "    <tr>\n",
       "      <th>6</th>\n",
       "      <td>60</td>\n",
       "      <td>'2020/12/07'</td>\n",
       "      <td>110</td>\n",
       "      <td>136</td>\n",
       "      <td>374.0</td>\n",
       "    </tr>\n",
       "    <tr>\n",
       "      <th>9</th>\n",
       "      <td>60</td>\n",
       "      <td>'2020/12/10'</td>\n",
       "      <td>98</td>\n",
       "      <td>124</td>\n",
       "      <td>269.0</td>\n",
       "    </tr>\n",
       "    <tr>\n",
       "      <th>10</th>\n",
       "      <td>60</td>\n",
       "      <td>'2020/12/11'</td>\n",
       "      <td>103</td>\n",
       "      <td>147</td>\n",
       "      <td>329.3</td>\n",
       "    </tr>\n",
       "    <tr>\n",
       "      <th>11</th>\n",
       "      <td>60</td>\n",
       "      <td>'2020/12/12'</td>\n",
       "      <td>100</td>\n",
       "      <td>120</td>\n",
       "      <td>250.7</td>\n",
       "    </tr>\n",
       "    <tr>\n",
       "      <th>12</th>\n",
       "      <td>60</td>\n",
       "      <td>'2020/12/12'</td>\n",
       "      <td>100</td>\n",
       "      <td>120</td>\n",
       "      <td>250.7</td>\n",
       "    </tr>\n",
       "    <tr>\n",
       "      <th>13</th>\n",
       "      <td>60</td>\n",
       "      <td>'2020/12/13'</td>\n",
       "      <td>106</td>\n",
       "      <td>128</td>\n",
       "      <td>345.3</td>\n",
       "    </tr>\n",
       "    <tr>\n",
       "      <th>14</th>\n",
       "      <td>60</td>\n",
       "      <td>'2020/12/14'</td>\n",
       "      <td>104</td>\n",
       "      <td>132</td>\n",
       "      <td>379.3</td>\n",
       "    </tr>\n",
       "    <tr>\n",
       "      <th>15</th>\n",
       "      <td>60</td>\n",
       "      <td>'2020/12/15'</td>\n",
       "      <td>98</td>\n",
       "      <td>123</td>\n",
       "      <td>275.0</td>\n",
       "    </tr>\n",
       "    <tr>\n",
       "      <th>16</th>\n",
       "      <td>60</td>\n",
       "      <td>'2020/12/16'</td>\n",
       "      <td>98</td>\n",
       "      <td>120</td>\n",
       "      <td>215.2</td>\n",
       "    </tr>\n",
       "    <tr>\n",
       "      <th>17</th>\n",
       "      <td>60</td>\n",
       "      <td>'2020/12/17'</td>\n",
       "      <td>100</td>\n",
       "      <td>120</td>\n",
       "      <td>300.0</td>\n",
       "    </tr>\n",
       "    <tr>\n",
       "      <th>19</th>\n",
       "      <td>60</td>\n",
       "      <td>'2020/12/19'</td>\n",
       "      <td>103</td>\n",
       "      <td>123</td>\n",
       "      <td>323.0</td>\n",
       "    </tr>\n",
       "    <tr>\n",
       "      <th>21</th>\n",
       "      <td>60</td>\n",
       "      <td>'2020/12/21'</td>\n",
       "      <td>108</td>\n",
       "      <td>131</td>\n",
       "      <td>364.2</td>\n",
       "    </tr>\n",
       "    <tr>\n",
       "      <th>23</th>\n",
       "      <td>60</td>\n",
       "      <td>'2020/12/23'</td>\n",
       "      <td>130</td>\n",
       "      <td>101</td>\n",
       "      <td>300.0</td>\n",
       "    </tr>\n",
       "    <tr>\n",
       "      <th>25</th>\n",
       "      <td>60</td>\n",
       "      <td>'2020/12/25'</td>\n",
       "      <td>102</td>\n",
       "      <td>126</td>\n",
       "      <td>334.5</td>\n",
       "    </tr>\n",
       "    <tr>\n",
       "      <th>26</th>\n",
       "      <td>60</td>\n",
       "      <td>20201226</td>\n",
       "      <td>100</td>\n",
       "      <td>120</td>\n",
       "      <td>250.0</td>\n",
       "    </tr>\n",
       "    <tr>\n",
       "      <th>27</th>\n",
       "      <td>60</td>\n",
       "      <td>'2020/12/27'</td>\n",
       "      <td>92</td>\n",
       "      <td>118</td>\n",
       "      <td>241.0</td>\n",
       "    </tr>\n",
       "    <tr>\n",
       "      <th>28</th>\n",
       "      <td>60</td>\n",
       "      <td>'2020/12/28'</td>\n",
       "      <td>103</td>\n",
       "      <td>132</td>\n",
       "      <td>NaN</td>\n",
       "    </tr>\n",
       "    <tr>\n",
       "      <th>29</th>\n",
       "      <td>60</td>\n",
       "      <td>'2020/12/29'</td>\n",
       "      <td>100</td>\n",
       "      <td>132</td>\n",
       "      <td>280.0</td>\n",
       "    </tr>\n",
       "    <tr>\n",
       "      <th>30</th>\n",
       "      <td>60</td>\n",
       "      <td>'2020/12/30'</td>\n",
       "      <td>102</td>\n",
       "      <td>129</td>\n",
       "      <td>380.3</td>\n",
       "    </tr>\n",
       "    <tr>\n",
       "      <th>31</th>\n",
       "      <td>60</td>\n",
       "      <td>'2020/12/31'</td>\n",
       "      <td>92</td>\n",
       "      <td>115</td>\n",
       "      <td>243.0</td>\n",
       "    </tr>\n",
       "  </tbody>\n",
       "</table>\n",
       "</div>"
      ],
      "text/plain": [
       "    Duration          Date  Pulse  Maxpulse  Calories\n",
       "0         60  '2020/12/01'    110       130     409.1\n",
       "1         60  '2020/12/02'    117       145     479.0\n",
       "2         60  '2020/12/03'    103       135     340.0\n",
       "5         60  '2020/12/06'    102       127     300.0\n",
       "6         60  '2020/12/07'    110       136     374.0\n",
       "9         60  '2020/12/10'     98       124     269.0\n",
       "10        60  '2020/12/11'    103       147     329.3\n",
       "11        60  '2020/12/12'    100       120     250.7\n",
       "12        60  '2020/12/12'    100       120     250.7\n",
       "13        60  '2020/12/13'    106       128     345.3\n",
       "14        60  '2020/12/14'    104       132     379.3\n",
       "15        60  '2020/12/15'     98       123     275.0\n",
       "16        60  '2020/12/16'     98       120     215.2\n",
       "17        60  '2020/12/17'    100       120     300.0\n",
       "19        60  '2020/12/19'    103       123     323.0\n",
       "21        60  '2020/12/21'    108       131     364.2\n",
       "23        60  '2020/12/23'    130       101     300.0\n",
       "25        60  '2020/12/25'    102       126     334.5\n",
       "26        60      20201226    100       120     250.0\n",
       "27        60  '2020/12/27'     92       118     241.0\n",
       "28        60  '2020/12/28'    103       132       NaN\n",
       "29        60  '2020/12/29'    100       132     280.0\n",
       "30        60  '2020/12/30'    102       129     380.3\n",
       "31        60  '2020/12/31'     92       115     243.0"
      ]
     },
     "execution_count": 7,
     "metadata": {},
     "output_type": "execute_result"
    }
   ],
   "source": [
    "x"
   ]
  },
  {
   "cell_type": "code",
   "execution_count": 8,
   "id": "592bb18f",
   "metadata": {},
   "outputs": [],
   "source": [
    "x=df[df['Duration']==60].shape[0]"
   ]
  },
  {
   "cell_type": "code",
   "execution_count": 9,
   "id": "0269ce99",
   "metadata": {},
   "outputs": [
    {
     "data": {
      "text/plain": [
       "24"
      ]
     },
     "execution_count": 9,
     "metadata": {},
     "output_type": "execute_result"
    }
   ],
   "source": [
    "x"
   ]
  },
  {
   "cell_type": "code",
   "execution_count": null,
   "id": "3aff6504",
   "metadata": {},
   "outputs": [],
   "source": []
  }
 ],
 "metadata": {
  "kernelspec": {
   "display_name": "Python 3",
   "language": "python",
   "name": "python3"
  },
  "language_info": {
   "codemirror_mode": {
    "name": "ipython",
    "version": 3
   },
   "file_extension": ".py",
   "mimetype": "text/x-python",
   "name": "python",
   "nbconvert_exporter": "python",
   "pygments_lexer": "ipython3",
   "version": "3.8.8"
  }
 },
 "nbformat": 4,
 "nbformat_minor": 5
}
