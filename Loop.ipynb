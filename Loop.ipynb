{
 "cells": [
  {
   "cell_type": "code",
   "execution_count": null,
   "id": "5b6b762b",
   "metadata": {},
   "outputs": [],
   "source": [
    "\n",
    "\"\"\"A loop statement allows us to execute a statement or group of statement multiple times.\n",
    "\n",
    " 2 types of loop--- for loop,while loop\n",
    " \n",
    " ---------for loop-------\n",
    " \n",
    " for variable_name in range(start,stop+ 1,Step):\n",
    "               statements\n",
    " \n",
    " for i in [1,2,....n]:\n",
    " \n",
    " ---------range---------\n",
    " \n",
    " range(0,n) generates sequence 0,1,2.....n-1\n",
    " \n",
    " -----------while loop--------\n",
    " \n",
    " while(condition):\n",
    "        statements\n",
    "        updation\"\"\"\n",
    "\n"
   ]
  },
  {
   "cell_type": "code",
   "execution_count": null,
   "id": "ff8c3d56",
   "metadata": {},
   "outputs": [],
   "source": [
    "#when we know what value increasing or decreamenting then we use for loop\n",
    "#when we don't know what value increasing or decreamenting then we use while loop ,we more consuse about condition"
   ]
  },
  {
   "cell_type": "code",
   "execution_count": null,
   "id": "57dbb4dc",
   "metadata": {},
   "outputs": [],
   "source": [
    "#in inbuild keyword\n",
    "for i in [1,2,3,4,5]:\n",
    "        print(i)"
   ]
  },
  {
   "cell_type": "code",
   "execution_count": 9,
   "id": "5407aa8d",
   "metadata": {},
   "outputs": [
    {
     "name": "stdout",
     "output_type": "stream",
     "text": [
      "1\n",
      "2\n",
      "3\n",
      "4\n",
      "5\n"
     ]
    }
   ],
   "source": [
    "for i in range(1,6):\n",
    "    print(i)\n"
   ]
  },
  {
   "cell_type": "code",
   "execution_count": 8,
   "id": "776daab0",
   "metadata": {},
   "outputs": [
    {
     "name": "stdout",
     "output_type": "stream",
     "text": [
      "0\n",
      "1\n",
      "2\n",
      "3\n"
     ]
    }
   ],
   "source": [
    "i=4\n",
    "for i in range(i):\n",
    "    print(i)"
   ]
  },
  {
   "cell_type": "code",
   "execution_count": null,
   "id": "aa04d6b2",
   "metadata": {},
   "outputs": [],
   "source": [
    "for i in range(1,10,3):\n",
    "    print(i)"
   ]
  },
  {
   "cell_type": "code",
   "execution_count": null,
   "id": "f014a016",
   "metadata": {},
   "outputs": [],
   "source": [
    "for i in range(10,1,-1):\n",
    "    print(i)"
   ]
  },
  {
   "cell_type": "code",
   "execution_count": null,
   "id": "101bbee4",
   "metadata": {},
   "outputs": [],
   "source": [
    "for i in range(10,1,-2):\n",
    "    print(i)"
   ]
  },
  {
   "cell_type": "code",
   "execution_count": null,
   "id": "05e5a4e3",
   "metadata": {},
   "outputs": [],
   "source": [
    "for i in range(i):\n",
    "    print(i)"
   ]
  },
  {
   "cell_type": "code",
   "execution_count": null,
   "id": "9d82e5bd",
   "metadata": {},
   "outputs": [],
   "source": [
    "for i in range(10):\n",
    "    print(i)"
   ]
  },
  {
   "cell_type": "code",
   "execution_count": null,
   "id": "d1c7ddc0",
   "metadata": {},
   "outputs": [],
   "source": [
    "for i in range(5,10):\n",
    "    print(i)"
   ]
  },
  {
   "cell_type": "code",
   "execution_count": null,
   "id": "3111effe",
   "metadata": {},
   "outputs": [],
   "source": [
    "for i in range(10,1,-2):\n",
    "    print(i)"
   ]
  },
  {
   "cell_type": "code",
   "execution_count": 2,
   "id": "ba2ef8ed",
   "metadata": {},
   "outputs": [
    {
     "data": {
      "text/plain": [
       "'\"i=1\\nwhile(i<=5):\\n    print(i)'"
      ]
     },
     "execution_count": 2,
     "metadata": {},
     "output_type": "execute_result"
    }
   ],
   "source": [
    "\"\"\"\"i=1\n",
    "while(i<=5):\n",
    "    print(i)\n",
    "    infinite loop\"\"\""
   ]
  },
  {
   "cell_type": "code",
   "execution_count": null,
   "id": "eaa2e418",
   "metadata": {},
   "outputs": [],
   "source": []
  },
  {
   "cell_type": "code",
   "execution_count": 1,
   "id": "03b96e6d",
   "metadata": {},
   "outputs": [
    {
     "name": "stdout",
     "output_type": "stream",
     "text": [
      "1\n",
      "2\n",
      "3\n",
      "4\n",
      "5\n"
     ]
    }
   ],
   "source": [
    "i=1\n",
    "while(i<=5):\n",
    "    print(i)\n",
    "    i=i+1"
   ]
  },
  {
   "cell_type": "code",
   "execution_count": 3,
   "id": "42965587",
   "metadata": {},
   "outputs": [
    {
     "name": "stdout",
     "output_type": "stream",
     "text": [
      "1\n",
      "2\n",
      "3\n",
      "4\n",
      "5\n",
      "6\n"
     ]
    }
   ],
   "source": [
    "for i in [1,2,3,4,5,6]:\n",
    "    print(i)"
   ]
  },
  {
   "cell_type": "code",
   "execution_count": 4,
   "id": "e4396459",
   "metadata": {},
   "outputs": [
    {
     "name": "stdout",
     "output_type": "stream",
     "text": [
      "1\n",
      "2\n",
      "3\n",
      "4\n",
      "5\n",
      "6\n"
     ]
    }
   ],
   "source": [
    "\n",
    "for i in range(1,7):\n",
    "    print(i)"
   ]
  },
  {
   "cell_type": "code",
   "execution_count": 5,
   "id": "667275f0",
   "metadata": {},
   "outputs": [
    {
     "name": "stdout",
     "output_type": "stream",
     "text": [
      "0\n",
      "1\n",
      "2\n",
      "3\n",
      "4\n",
      "5\n",
      "6\n",
      "7\n",
      "8\n",
      "9\n"
     ]
    }
   ],
   "source": [
    "#default start 0\n",
    "for i in range(10):\n",
    "    print(i)"
   ]
  },
  {
   "cell_type": "code",
   "execution_count": 6,
   "id": "3cfb3d21",
   "metadata": {},
   "outputs": [],
   "source": [
    "for i in range(10,1):\n",
    "    print(i)"
   ]
  },
  {
   "cell_type": "code",
   "execution_count": 8,
   "id": "ae25b51e",
   "metadata": {},
   "outputs": [
    {
     "name": "stdout",
     "output_type": "stream",
     "text": [
      "10\n"
     ]
    }
   ],
   "source": [
    "for i in range(10,1,-9):\n",
    "    print(i)"
   ]
  },
  {
   "cell_type": "code",
   "execution_count": 2,
   "id": "6047f7e4",
   "metadata": {},
   "outputs": [
    {
     "name": "stdout",
     "output_type": "stream",
     "text": [
      "sweety\n",
      "sweety\n",
      "sweety\n",
      "sweety\n",
      "sweety\n",
      "sweety\n",
      "sweety\n",
      "sweety\n",
      "sweety\n",
      "sweety\n"
     ]
    }
   ],
   "source": [
    "#wap to print my name 10 times\n",
    "for sweety in range(1,11):\n",
    "    print(\"sweety\")"
   ]
  },
  {
   "cell_type": "code",
   "execution_count": 3,
   "id": "2f266001",
   "metadata": {},
   "outputs": [
    {
     "name": "stdout",
     "output_type": "stream",
     "text": [
      "1\n",
      "2\n",
      "3\n",
      "4\n",
      "5\n",
      "6\n",
      "7\n",
      "8\n",
      "9\n",
      "10\n"
     ]
    }
   ],
   "source": [
    "for sweety in range(1,11):\n",
    "    print(sweety)"
   ]
  },
  {
   "cell_type": "code",
   "execution_count": 4,
   "id": "1200676f",
   "metadata": {},
   "outputs": [
    {
     "name": "stdout",
     "output_type": "stream",
     "text": [
      "sweety\n",
      "sweety\n",
      "sweety\n",
      "sweety\n",
      "sweety\n",
      "sweety\n",
      "sweety\n",
      "sweety\n",
      "sweety\n",
      "sweety\n"
     ]
    }
   ],
   "source": [
    "i=1\n",
    "while(i<=10):\n",
    "    print(\"sweety\")\n",
    "    i=i+1"
   ]
  },
  {
   "cell_type": "code",
   "execution_count": 7,
   "id": "ee81709c",
   "metadata": {},
   "outputs": [
    {
     "name": "stdout",
     "output_type": "stream",
     "text": [
      "sweety\n",
      "sweety\n",
      "sweety\n",
      "sweety\n",
      "sweety\n"
     ]
    }
   ],
   "source": [
    "i=10\n",
    "while(i<15):\n",
    "    print(\"sweety\")\n",
    "    i+=1"
   ]
  },
  {
   "cell_type": "code",
   "execution_count": 8,
   "id": "3bc564cc",
   "metadata": {},
   "outputs": [
    {
     "name": "stdout",
     "output_type": "stream",
     "text": [
      "sweety\n",
      "sweety\n",
      "sweety\n",
      "sweety\n",
      "sweety\n"
     ]
    }
   ],
   "source": [
    "for i in [\"sweety\",\"sweety\",\"sweety\",\"sweety\",\"sweety\"]:\n",
    "    print(i)"
   ]
  },
  {
   "cell_type": "code",
   "execution_count": 1,
   "id": "e3e8c642",
   "metadata": {},
   "outputs": [
    {
     "name": "stdout",
     "output_type": "stream",
     "text": [
      "enter any range10\n",
      "1\n",
      "2\n",
      "3\n",
      "4\n",
      "5\n",
      "6\n",
      "7\n",
      "8\n",
      "9\n",
      "10\n",
      "enter any range10\n",
      "1\n",
      "2\n",
      "3\n",
      "4\n",
      "5\n",
      "6\n",
      "7\n",
      "8\n",
      "9\n",
      "10\n"
     ]
    }
   ],
   "source": [
    "#wap to print 1st n natural no\n",
    "\n",
    "a=int(input(\"enter any range\"))\n",
    "for i in range(1,a+1):\n",
    "    print(i)\n",
    "\n",
    "#another way\n",
    "\n",
    "a=int(input(\"enter any range\"))\n",
    "i=1\n",
    "while(i<=a):\n",
    "    print(i)\n",
    "    i=i+1"
   ]
  },
  {
   "cell_type": "code",
   "execution_count": 2,
   "id": "dfb43fcc",
   "metadata": {},
   "outputs": [
    {
     "name": "stdout",
     "output_type": "stream",
     "text": [
      "enter any range10\n",
      "1\n",
      "3\n",
      "5\n",
      "7\n",
      "9\n"
     ]
    }
   ],
   "source": [
    "#wap to print 1st  n odd natural no\n",
    "\n",
    "x=int(input(\"enter any range\"))\n",
    "for i in range(1,x+1,2):\n",
    "    print(i)"
   ]
  },
  {
   "cell_type": "code",
   "execution_count": 3,
   "id": "999bf738",
   "metadata": {},
   "outputs": [
    {
     "name": "stdout",
     "output_type": "stream",
     "text": [
      "enter any range10\n",
      "2\n",
      "4\n",
      "6\n",
      "8\n",
      "10\n"
     ]
    }
   ],
   "source": [
    "#wap to print 1st  n even natural no\n",
    "\n",
    "x=int(input(\"enter any range\"))\n",
    "for i in range(2,x+1,2):\n",
    "    print(i)"
   ]
  },
  {
   "cell_type": "code",
   "execution_count": 6,
   "id": "ad123fcc",
   "metadata": {},
   "outputs": [
    {
     "name": "stdout",
     "output_type": "stream",
     "text": [
      "enter the range5\n",
      "1\n",
      "2\n",
      "3\n",
      "4\n",
      "5\n",
      "sum of n natural no= 15\n"
     ]
    }
   ],
   "source": [
    "#wap to print 1st n natural no and give their sum\n",
    "\n",
    "n=int(input(\"enter the range\"))\n",
    "s=0\n",
    "for i in range(1,n+1):\n",
    "    print(i)\n",
    "    s=s+i\n",
    "print(\"sum of n natural no=\",s)\n"
   ]
  },
  {
   "cell_type": "code",
   "execution_count": 8,
   "id": "1c117076",
   "metadata": {},
   "outputs": [
    {
     "name": "stdout",
     "output_type": "stream",
     "text": [
      "enter the range10\n",
      "2\n",
      "4\n",
      "6\n",
      "8\n",
      "10\n",
      "sum of n natural no= 30\n"
     ]
    }
   ],
   "source": [
    "#wap to print 1st n even no and give their sum,s=2+4+6+...+n\n",
    "\n",
    "n=int(input(\"enter the range\"))\n",
    "s=0\n",
    "for i in range(2,n+1,2):\n",
    "    print(i)\n",
    "    s=s+i\n",
    "print(\"sum of n natural no=\",s)"
   ]
  },
  {
   "cell_type": "code",
   "execution_count": 9,
   "id": "bfe26bc2",
   "metadata": {},
   "outputs": [
    {
     "name": "stdout",
     "output_type": "stream",
     "text": [
      "enter the range10\n",
      "1\n",
      "3\n",
      "5\n",
      "7\n",
      "9\n",
      "sum of n natural no= 25\n"
     ]
    }
   ],
   "source": [
    "#wap to print 1st n odd no and give their sum,s=1+3+5+...n\n",
    "\n",
    "n=int(input(\"enter the range\"))\n",
    "s=0\n",
    "for i in range(1,n+1,2):\n",
    "    print(i)\n",
    "    s=s+i\n",
    "print(\"sum of n natural no=\",s)"
   ]
  },
  {
   "cell_type": "code",
   "execution_count": 14,
   "id": "66fce1d5",
   "metadata": {},
   "outputs": [
    {
     "name": "stdout",
     "output_type": "stream",
     "text": [
      "enter a no=4\n",
      "1\n",
      "2\n",
      "3\n",
      "4\n",
      "factorial of given no= 24\n"
     ]
    }
   ],
   "source": [
    "#wap to print factorial of a no. 4!=1x2x3x4=24\n",
    "\n",
    "n=int(input(\"enter a no=\"))\n",
    "s=1\n",
    "for i in range(1,n+1):\n",
    "    print(i)\n",
    "    s=s*i\n",
    "print(\"factorial of given no=\",s)"
   ]
  },
  {
   "cell_type": "code",
   "execution_count": 1,
   "id": "afe055e9",
   "metadata": {},
   "outputs": [
    {
     "name": "stdout",
     "output_type": "stream",
     "text": [
      "enter a no=-5\n",
      "factorial for any negative no not possible\n"
     ]
    }
   ],
   "source": [
    "#using while loop\n",
    "#wap to print factorial of a no. 4!=1x2x3x4=24\n",
    "\n",
    "n=int(input(\"enter a no=\"))\n",
    "s=1\n",
    "i=1\n",
    "if n<0:\n",
    "    print(\"factorial for any negative no not possible\")\n",
    "elif n==0:\n",
    "    print(\"factorial of 0 is 1\")\n",
    "else:\n",
    "    while(i<=n):\n",
    "        print(i)\n",
    "        \n",
    "        s=s*i\n",
    "        i+=1\n",
    "        \n",
    "    print(\"factorial of given no=\",s)"
   ]
  },
  {
   "cell_type": "code",
   "execution_count": 29,
   "id": "119e634f",
   "metadata": {},
   "outputs": [
    {
     "name": "stdout",
     "output_type": "stream",
     "text": [
      "current letter p\n",
      "current letter y\n",
      "current letter t\n",
      "current letter h\n",
      "current letter o\n",
      "current letter n\n",
      "out of the loop\n"
     ]
    }
   ],
   "source": [
    "#            FOR-ELSE STATEMENT\n",
    "#experiment on loop statement in python(FOR-ELSE)\n",
    "#else part will work either for part work or not\n",
    "#after for if i want to give any message we use this\n",
    "\n",
    "for letter in \"python\":\n",
    "    print(\"current letter\",letter)\n",
    "else:\n",
    "    print(\"out of the loop\")\n"
   ]
  },
  {
   "cell_type": "code",
   "execution_count": 30,
   "id": "2c60816b",
   "metadata": {},
   "outputs": [
    {
     "name": "stdout",
     "output_type": "stream",
     "text": [
      "current letter s\n",
      "current letter w\n",
      "current letter e\n",
      "current letter e\n",
      "current letter t\n",
      "current letter y\n",
      "this is my name\n"
     ]
    }
   ],
   "source": [
    "#experiment on loop statement in python(FOR-ELSE)\n",
    "#always else part will execute\n",
    "\n",
    "for letter in \"sweety\":\n",
    "    print(\"current letter\",letter)\n",
    "else:\n",
    "    print(\"this is my name\")\n"
   ]
  },
  {
   "cell_type": "code",
   "execution_count": 32,
   "id": "07c88353",
   "metadata": {},
   "outputs": [
    {
     "name": "stdout",
     "output_type": "stream",
     "text": [
      "0\n",
      "1\n",
      "2\n",
      "3\n",
      "4\n",
      "hey\n"
     ]
    }
   ],
   "source": [
    "# Example on  FOR-ELSE STATEMENT\n",
    "#always else part will execute\n",
    "\n",
    "for i in range(5):\n",
    "    print(i)\n",
    "else:\n",
    "    print(\"hey\")"
   ]
  },
  {
   "cell_type": "code",
   "execution_count": 33,
   "id": "67ff84b5",
   "metadata": {},
   "outputs": [
    {
     "name": "stdout",
     "output_type": "stream",
     "text": [
      "1\n",
      "hey\n"
     ]
    }
   ],
   "source": [
    "# Example on  FOR-ELSE STATEMENT\n",
    "#always else part will execute\n",
    "\n",
    "for i in range(1,11,10):\n",
    "    print(i)\n",
    "else:\n",
    "    print(\"hey\")"
   ]
  },
  {
   "cell_type": "code",
   "execution_count": 34,
   "id": "5120c3e8",
   "metadata": {},
   "outputs": [
    {
     "name": "stdout",
     "output_type": "stream",
     "text": [
      "hey\n"
     ]
    }
   ],
   "source": [
    "# Example on  FOR-ELSE STATEMENT\n",
    "#always else part will execute\n",
    "\n",
    "for i in range(5,1):\n",
    "    print(i)\n",
    "else:\n",
    "    print(\"hey\")"
   ]
  },
  {
   "cell_type": "code",
   "execution_count": 36,
   "id": "af68ef82",
   "metadata": {},
   "outputs": [
    {
     "name": "stdout",
     "output_type": "stream",
     "text": [
      "1\n",
      "2\n",
      "3\n",
      "4\n",
      "5\n",
      "hey\n"
     ]
    }
   ],
   "source": [
    "# Example on  FOR-ELSE STATEMENT\n",
    "#always else part will execute\n",
    "\n",
    "i,n=1,5\n",
    "while(i<=n):\n",
    "    print(i)\n",
    "    i+=1\n",
    "else:\n",
    "    print(\"hey\")"
   ]
  },
  {
   "cell_type": "code",
   "execution_count": 1,
   "id": "581c0b7c",
   "metadata": {},
   "outputs": [
    {
     "name": "stdout",
     "output_type": "stream",
     "text": [
      "table of 1 is as follows:\n",
      "table of 2 is as follows:\n",
      "2 * 1 = 2\n",
      "2 * 2 = 4\n",
      "2 * 3 = 6\n",
      "2 * 4 = 8\n",
      "2 * 5 = 10\n",
      "2 * 6 = 12\n",
      "2 * 7 = 14\n",
      "2 * 8 = 16\n",
      "2 * 9 = 18\n",
      "2 * 10 = 20\n"
     ]
    }
   ],
   "source": [
    "#wap to print multiplication table\n",
    "\n",
    "n=2\n",
    "for i in range(1,n+1):\n",
    "    j=1\n",
    "    print(\"table of\",i,\"is as follows:\")\n",
    "while j<=10:\n",
    "    print(i,\"*\",j,\"=\",i*j)\n",
    "    j=j+1"
   ]
  },
  {
   "cell_type": "code",
   "execution_count": 6,
   "id": "533f80c5",
   "metadata": {},
   "outputs": [
    {
     "name": "stdout",
     "output_type": "stream",
     "text": [
      "enter a no2\n",
      "enter the range20\n",
      "table for 2 is=\n",
      "2 * 1 = 2\n",
      "2 * 2 = 4\n",
      "2 * 3 = 6\n",
      "2 * 4 = 8\n",
      "2 * 5 = 10\n",
      "2 * 6 = 12\n",
      "2 * 7 = 14\n",
      "2 * 8 = 16\n",
      "2 * 9 = 18\n",
      "2 * 10 = 20\n",
      "2 * 11 = 22\n",
      "2 * 12 = 24\n",
      "2 * 13 = 26\n",
      "2 * 14 = 28\n",
      "2 * 15 = 30\n",
      "2 * 16 = 32\n",
      "2 * 17 = 34\n",
      "2 * 18 = 36\n",
      "2 * 19 = 38\n",
      "2 * 20 = 40\n"
     ]
    }
   ],
   "source": [
    "#wap to print multiplication table\n",
    "\n",
    "n=int(input(\"enter a no\"))\n",
    "j=int(input(\"enter the range\"))\n",
    "print(\"table for\",n,\"is=\")\n",
    "for i in range(1,j+1):\n",
    "    \n",
    "    s=n*i\n",
    "    print(n,\"*\",i,\"=\",s)\n",
    "\n"
   ]
  },
  {
   "cell_type": "code",
   "execution_count": 1,
   "id": "05232baf",
   "metadata": {},
   "outputs": [
    {
     "name": "stdout",
     "output_type": "stream",
     "text": [
      "enter a no3\n",
      "enter the range10\n",
      "3 * 1 = 3\n",
      "3 * 2 = 6\n",
      "3 * 3 = 9\n",
      "3 * 4 = 12\n",
      "3 * 5 = 15\n",
      "3 * 6 = 18\n",
      "3 * 7 = 21\n",
      "3 * 8 = 24\n",
      "3 * 9 = 27\n",
      "3 * 10 = 30\n"
     ]
    }
   ],
   "source": [
    "#wap to print multiplication table\n",
    "\n",
    "n=int(input(\"enter a no\"))\n",
    "j=int(input(\"enter the range\"))\n",
    "c=1\n",
    "while(c<=j):\n",
    "    a=n*c\n",
    "    print(n,\"*\",c,\"=\",a)\n",
    "    c=c+1"
   ]
  },
  {
   "cell_type": "code",
   "execution_count": 5,
   "id": "20600053",
   "metadata": {},
   "outputs": [
    {
     "name": "stdout",
     "output_type": "stream",
     "text": [
      "1\n",
      "2\n",
      "3\n"
     ]
    }
   ],
   "source": [
    "#BREAK AND CONTINUE STATEMENT\n",
    "\n",
    "#break\n",
    "for i in range(1,10):\n",
    "    if(i==4):\n",
    "        break\n",
    "    else:\n",
    "        print(i)"
   ]
  },
  {
   "cell_type": "code",
   "execution_count": 3,
   "id": "8015368b",
   "metadata": {},
   "outputs": [
    {
     "name": "stdout",
     "output_type": "stream",
     "text": [
      "s\n",
      "w\n",
      "e\n",
      "e\n"
     ]
    }
   ],
   "source": [
    "#use of break statement\n",
    "\n",
    "for i in \"sweety\":\n",
    "    if i==\"t\":\n",
    "        break\n",
    "    print(i)"
   ]
  },
  {
   "cell_type": "code",
   "execution_count": 6,
   "id": "c338475b",
   "metadata": {},
   "outputs": [
    {
     "name": "stdout",
     "output_type": "stream",
     "text": [
      "1\n",
      "2\n",
      "3\n",
      "5\n",
      "6\n",
      "7\n",
      "8\n",
      "9\n"
     ]
    }
   ],
   "source": [
    "#continue\n",
    "\n",
    "for i in range(1,10):\n",
    "    if(i==4):\n",
    "        continue\n",
    "    else:\n",
    "        print(i)"
   ]
  },
  {
   "cell_type": "code",
   "execution_count": 7,
   "id": "fa1774ef",
   "metadata": {},
   "outputs": [
    {
     "name": "stdout",
     "output_type": "stream",
     "text": [
      "s\n",
      "w\n",
      "e\n",
      "e\n",
      "y\n"
     ]
    }
   ],
   "source": [
    "#use of continue statement\n",
    "\n",
    "for i in \"sweety\":\n",
    "    if i==\"t\":\n",
    "        continue\n",
    "    print(i)"
   ]
  },
  {
   "cell_type": "code",
   "execution_count": 10,
   "id": "d3aae955",
   "metadata": {},
   "outputs": [],
   "source": [
    "#---------------------------NESTED LOOP-------------------------------\n",
    "\n",
    "#LOOP UNDER LOOP=NESTED LOOP\n",
    "#BASICALLY THERE ARE 2 LOOPS-1.OUTER LOOP 2.INNER LOOP\n",
    "#OUTER LOOP CREATES ROW=i\n",
    "#INNER LOOP CREATES COLUMNS=j"
   ]
  },
  {
   "cell_type": "code",
   "execution_count": 2,
   "id": "3f123c22",
   "metadata": {},
   "outputs": [
    {
     "name": "stdout",
     "output_type": "stream",
     "text": [
      "* \n",
      "* * \n",
      "* * * \n",
      "* * * * \n",
      "* * * * * \n"
     ]
    }
   ],
   "source": [
    "\n",
    "#*\n",
    "#* *\n",
    "#* * *\n",
    "#* * * *\n",
    "#* * * * *\n",
    "         \n",
    "\n",
    "\n",
    "\n",
    "# i=row=5\n",
    "# j=coloumn=5\n",
    "\n",
    "\n",
    "for i in range(1,6):\n",
    "    for j in range(1,6):\n",
    "        if j<=i:\n",
    "            print(\"*\",end=\" \")\n",
    "    print()"
   ]
  },
  {
   "cell_type": "code",
   "execution_count": 1,
   "id": "5ee3ca31",
   "metadata": {},
   "outputs": [
    {
     "name": "stdout",
     "output_type": "stream",
     "text": [
      "0\n",
      "0\n",
      "0\n",
      "0\n",
      "0\n",
      "0\n",
      "1\n",
      "2\n",
      "3\n",
      "4\n",
      "0\n",
      "2\n",
      "4\n",
      "6\n",
      "8\n",
      "0\n",
      "3\n",
      "6\n",
      "9\n",
      "12\n",
      "0\n",
      "4\n",
      "8\n",
      "12\n",
      "16\n",
      "0\n",
      "5\n",
      "10\n",
      "15\n",
      "20\n",
      "0\n",
      "6\n",
      "12\n",
      "18\n",
      "24\n",
      "0\n",
      "7\n",
      "14\n",
      "21\n",
      "28\n",
      "0\n",
      "8\n",
      "16\n",
      "24\n",
      "32\n",
      "0\n",
      "9\n",
      "18\n",
      "27\n",
      "36\n"
     ]
    }
   ],
   "source": [
    "for j in range(10):\n",
    "    for k in range(5):\n",
    "        print(j*k)"
   ]
  },
  {
   "cell_type": "code",
   "execution_count": null,
   "id": "61cda26c",
   "metadata": {},
   "outputs": [],
   "source": [
    "def fac(n):\n",
    "    if n>1:\n",
    "        return n*fac(n-1)\n",
    "    else:\n",
    "        return 1\n",
    "\n",
    "a=int(input(\"enter any range Upto which you want to find factorial !\"))\n",
    "\n",
    "print(\"Do u want to continue ? \",'\\n')\n",
    "print(\"Enter : 1 To continue \",\"\\n\")\n",
    "print(\"Enter : 2 To Stop\")\n",
    "\n",
    "\n",
    "\n",
    "choice=int(input(\"enter your choice : \"))\n",
    "\n",
    "\n",
    "for i in range(1,a+1):\n",
    " \n",
    "    if choice==1:\n",
    "        x=int(input(\"Enter the number to compute the factorial : \"))\n",
    "\n",
    "        print(fac(x),'\\n')\n",
    "    \n",
    "    else:\n",
    "        exit()\n"
   ]
  },
  {
   "cell_type": "code",
   "execution_count": null,
   "id": "cd356fa8",
   "metadata": {},
   "outputs": [],
   "source": [
    "def fac(n):\n",
    "    if n>1:\n",
    "        return n*fac(n-1)\n",
    "    else:\n",
    "        return 1\n",
    "    \n",
    "while True:    \n",
    "    \n",
    "\n",
    "    x=int(input(\"Enter the number to compute the factorial : \"))\n",
    "\n",
    "    print(fac(x),'\\n')\n",
    "\n",
    "    print(\"Do u want to continue ? \",'\\n')\n",
    "    print(\"Enter : 1 To continue \",\"\\n\")\n",
    "    print(\"Enter : 2 To Stop\")\n",
    "\n",
    "\n",
    "\n",
    "    choice=int(input(\"enter your choice : \"))\n",
    "\n",
    "\n",
    "    \n",
    "\n",
    "    if choice==1:\n",
    "        x=int(input(\"Enter the number to compute the factorial : \"))\n",
    "\n",
    "        print(fac(x),'\\n')\n",
    "\n",
    "    else:\n",
    "        exit()\n"
   ]
  },
  {
   "cell_type": "code",
   "execution_count": null,
   "id": "23dca132",
   "metadata": {},
   "outputs": [],
   "source": []
  }
 ],
 "metadata": {
  "kernelspec": {
   "display_name": "Python 3",
   "language": "python",
   "name": "python3"
  },
  "language_info": {
   "codemirror_mode": {
    "name": "ipython",
    "version": 3
   },
   "file_extension": ".py",
   "mimetype": "text/x-python",
   "name": "python",
   "nbconvert_exporter": "python",
   "pygments_lexer": "ipython3",
   "version": "3.8.8"
  }
 },
 "nbformat": 4,
 "nbformat_minor": 5
}
